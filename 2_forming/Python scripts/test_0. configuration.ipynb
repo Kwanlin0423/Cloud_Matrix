{
 "cells": [
  {
   "cell_type": "code",
   "execution_count": 1,
   "metadata": {},
   "outputs": [],
   "source": [
    "import topogenesis as tg\n",
    "import numpy as np\n",
    "import matplotlib.pyplot as plt"
   ]
  },
  {
   "cell_type": "code",
   "execution_count": 2,
   "metadata": {},
   "outputs": [],
   "source": [
    "avail_array = np.zeros((50,50,1), dtype=int)\n",
    "main_courtyard = (8,16,1)\n",
    "sp = (22,0,0)"
   ]
  },
  {
   "cell_type": "code",
   "execution_count": 3,
   "metadata": {},
   "outputs": [],
   "source": [
    "avail_array[sp[0]:sp[0] + main_courtyard[0], sp[1]:sp[1] + main_courtyard[1], sp[2]:sp[2] + main_courtyard[2]] = 1"
   ]
  },
  {
   "cell_type": "code",
   "execution_count": 4,
   "metadata": {},
   "outputs": [],
   "source": [
    "avail_lattice = tg.to_lattice(avail_array, minbound=[0,0,0])"
   ]
  },
  {
   "cell_type": "code",
   "execution_count": 5,
   "metadata": {},
   "outputs": [
    {
     "data": {
      "text/plain": [
       "stencil([[[0, 0, 0],\n",
       "          [0, 1, 0],\n",
       "          [0, 0, 0]],\n",
       "\n",
       "         [[0, 1, 0],\n",
       "          [0, 0, 0],\n",
       "          [0, 1, 0]],\n",
       "\n",
       "         [[0, 0, 0],\n",
       "          [0, 1, 0],\n",
       "          [0, 0, 0]]])"
      ]
     },
     "execution_count": 5,
     "metadata": {},
     "output_type": "execute_result"
    }
   ],
   "source": [
    "up_s = tg.create_stencil(\"von_neumann\", 1, 1)\n",
    "up_s[1, 1, 1] = 0\n",
    "up_s[1, 1, :] = 0\n",
    "up_s.function = tg.sfunc.sum \n",
    "up_s"
   ]
  },
  {
   "cell_type": "code",
   "execution_count": 6,
   "metadata": {},
   "outputs": [
    {
     "data": {
      "text/plain": [
       "stencil([[[0, 0, 0],\n",
       "          [0, 0, 0],\n",
       "          [0, 0, 0]],\n",
       "\n",
       "         [[0, 1, 0],\n",
       "          [0, 0, 0],\n",
       "          [0, 1, 0]],\n",
       "\n",
       "         [[0, 0, 0],\n",
       "          [0, 0, 0],\n",
       "          [0, 0, 0]]])"
      ]
     },
     "execution_count": 6,
     "metadata": {},
     "output_type": "execute_result"
    }
   ],
   "source": [
    "stencil = tg.create_stencil(\"von_neumann\", 1, 1)\n",
    "stencil[:, 1, 1] = 0\n",
    "stencil[1, 1, :] = 0\n",
    "stencil.function = tg.sfunc.sum \n",
    "stencil"
   ]
  },
  {
   "cell_type": "code",
   "execution_count": 7,
   "metadata": {},
   "outputs": [],
   "source": [
    "neigh_lattice = avail_lattice.apply_stencil(up_s)"
   ]
  },
  {
   "cell_type": "code",
   "execution_count": 12,
   "metadata": {},
   "outputs": [
    {
     "data": {
      "image/png": "[encoded data removed]",
      "text/plain": [
       "<Figure size 432x288 with 2 Axes>"
      ]
     },
     "metadata": {
      "needs_background": "light"
     },
     "output_type": "display_data"
    }
   ],
   "source": [
    "plt.imshow((neigh_lattice[:,:,0]>1) * (neigh_lattice[:,:,0]<4))\n",
    "plt.colorbar()\n",
    "plt.show()"
   ]
  },
  {
   "cell_type": "code",
   "execution_count": 490,
   "metadata": {},
   "outputs": [
    {
     "data": {
      "image/png": "[encoded data removed]",
      "text/plain": [
       "<Figure size 432x288 with 2 Axes>"
      ]
     },
     "metadata": {
      "needs_background": "light"
     },
     "output_type": "display_data"
    }
   ],
   "source": [
    "plt.imshow(neigh_lattice[:,:,0])\n",
    "plt.colorbar()\n",
    "plt.show()"
   ]
  },
  {
   "cell_type": "code",
   "execution_count": 491,
   "metadata": {},
   "outputs": [
    {
     "data": {
      "image/png": "[encoded data removed]",
      "text/plain": [
       "<Figure size 432x288 with 2 Axes>"
      ]
     },
     "metadata": {
      "needs_background": "light"
     },
     "output_type": "display_data"
    }
   ],
   "source": [
    "plt.imshow((neigh_lattice[:,:,0]==1) * (avail_lattice[:,:,0]==0))\n",
    "plt.colorbar()\n",
    "plt.show()"
   ]
  },
  {
   "cell_type": "code",
   "execution_count": 492,
   "metadata": {},
   "outputs": [],
   "source": [
    "# def around_main_courtyard"
   ]
  },
  {
   "cell_type": "code",
   "execution_count": 493,
   "metadata": {},
   "outputs": [
    {
     "data": {
      "text/plain": [
       "(14, 0, 0)"
      ]
     },
     "execution_count": 493,
     "metadata": {},
     "output_type": "execute_result"
    }
   ],
   "source": [
    "# input playground\n",
    "playground = (8,8,1)\n",
    "\n",
    "# find position of playground\n",
    "first = neigh_lattice[:,:,0]\n",
    "index = np.where(first==1)\n",
    "position = index[0][0] - playground[0] + 1, index[1][0], 0\n",
    "position"
   ]
  },
  {
   "cell_type": "code",
   "execution_count": 494,
   "metadata": {},
   "outputs": [],
   "source": [
    "# place playground in the lattice\n",
    "avail_array[position[0]:position[0] + playground[0], position[1]:position[1] + playground[1], position[2]:position[2] + playground[2]] = 2"
   ]
  },
  {
   "cell_type": "code",
   "execution_count": 495,
   "metadata": {},
   "outputs": [],
   "source": [
    "# create lattice\n",
    "avail_lattice= tg.to_lattice(avail_array, minbound=[0,0,0])"
   ]
  },
  {
   "cell_type": "code",
   "execution_count": 496,
   "metadata": {},
   "outputs": [
    {
     "data": {
      "image/png": "[encoded data removed]",
      "text/plain": [
       "<Figure size 432x288 with 2 Axes>"
      ]
     },
     "metadata": {
      "needs_background": "light"
     },
     "output_type": "display_data"
    }
   ],
   "source": [
    "# print\n",
    "plt.imshow(avail_lattice[:,:,0])\n",
    "plt.colorbar()\n",
    "plt.show()"
   ]
  },
  {
   "cell_type": "code",
   "execution_count": 497,
   "metadata": {},
   "outputs": [
    {
     "data": {
      "text/plain": [
       "[(), (16, 9, 0)]"
      ]
     },
     "execution_count": 497,
     "metadata": {},
     "output_type": "execute_result"
    }
   ],
   "source": [
    "neigh_lattice = avail_lattice.apply_stencil(up_s)\n",
    "    \n",
    "first = neigh_lattice[:,:,0]\n",
    "index = np.where(first ==1)\n",
    "select_x = np.random.choice(index[0][0], 1, replace=False)\n",
    "select_y = np.random.choice(index[0][0], 1, replace=False)\n",
    "step=[(),()]\n",
    "step[1] = (int(select_x) + 1, int(select_y), 0)\n",
    "step"
   ]
  },
  {
   "cell_type": "code",
   "execution_count": 33,
   "metadata": {},
   "outputs": [],
   "source": [
    "import random\n",
    "a = False\n",
    "while a == False:\n",
    "    neigh_lattice = avail_lattice.apply_stencil(up_s)\n",
    "    \n",
    "    layer = neigh_lattice[:,:,0]\n",
    "    index = np.argwhere(layer ==1)\n",
    "    # index_list = index.tolist()\n",
    "    # index_tuple = []\n",
    "    # for i in index_list:\n",
    "    #     index_tuple.append(tuple(i))\n",
    "\n",
    "    index_tuple = [tuple(i) for i in index.tolist()]\n",
    "\n",
    "    # print(index_tuple)\n",
    "    si = index_tuple[np.random.choice(len(index_tuple), 1, replace=False)[0]]\n",
    "    # select_x = np.random.choice(index[0], 1, replace=False)\n",
    "    # select_y = np.random.choice(index[1], 1, replace=False)\n",
    "    \n",
    "    ar = np.sum(neigh_lattice[si[0]+1:si[0]+8, si[1]]==0) == 7\n",
    "    ac = np.sum(neigh_lattice[si[0], si[1]+1:si[1]+8]==0) == 7\n",
    "    \n",
    "    a = ar or ac\n",
    "#     steps = [(),(),(),(),(),(),(),()]\n",
    "\n",
    "#     if int(select_x) + 1 == 1:\n",
    "#         for i in range(0,7):\n",
    "#             steps[i] = (int(select_x) + i, int(select_y), 0)\n",
    "#     else:\n",
    "#         for i in range(0,7): \n",
    "#             steps[i] = (int(select_x), int(select_y) + i, 0)\n",
    "#     for i in range(0,3):\n",
    "#         if steps[i] == 0:\n",
    "#             a = False\n",
    "#             break\n",
    "#         else:\n",
    "#             a = True\n",
    "# space = (8,8,1)\n",
    "\n",
    "\n",
    "# if int(select_x) + 1 == 1:\n",
    "#     # find position of area\n",
    "#     position = int(select_x) - space[0] + 1 , int(select_y) - 1, 0\n",
    "#     # place area in the lattice\n",
    "#     avail_array[position[0]:position[0] + space[0], position[1]:position[1] + space[1], position[2]:position[2] + space[2]] = 3\n",
    "#     # create lattice\n",
    "#     avail_lattice= tg.to_lattice(avail_array, minbound=[0,0,0])\n",
    "# else:\n",
    "#     # find position of area\n",
    "#     position = int(select_x) + 1 , int(select_y) + space[1] - 1, 0\n",
    "#     # place area in the lattice\n",
    "#     avail_array[position[0]:position[0] + space[0], position[1]:position[1] + space[1], position[2]:position[2] + space[2]] = 4\n",
    "#     # create lattice\n",
    "#     avail_lattice= tg.to_lattice(avail_array, minbound=[0,0,0])\n",
    "    \n",
    "# # print\n",
    "# plt.imshow(avail_lattice[:,:,0])\n",
    "# plt.colorbar()\n",
    "# plt.show()\n",
    "# print(select_x)\n",
    "# print(int(select_x), int(select_y), 0)"
   ]
  },
  {
   "cell_type": "code",
   "execution_count": 499,
   "metadata": {},
   "outputs": [
    {
     "data": {
      "text/plain": [
       "(14, 8, 0)"
      ]
     },
     "execution_count": 499,
     "metadata": {},
     "output_type": "execute_result"
    }
   ],
   "source": [
    "# input sitting area\n",
    "sitting_area = (8,8,1)\n",
    "\n",
    "# find position of sitting area\n",
    "position_1 = index_1[0][0] - sitting_area[0] + 1, index_1[1][0] - 1, 0\n",
    "position_1"
   ]
  },
  {
   "cell_type": "code",
   "execution_count": 500,
   "metadata": {},
   "outputs": [],
   "source": [
    "# place sitting area in the lattice\n",
    "avail_array[position_1[0]:position_1[0] + sitting_area[0], position_1[1]:position_1[1] + sitting_area[1], position_1[2]:position_1[2] + sitting_area[2]] = 3"
   ]
  },
  {
   "cell_type": "code",
   "execution_count": 501,
   "metadata": {},
   "outputs": [],
   "source": [
    "# create lattice\n",
    "avail_lattice= tg.to_lattice(avail_array, minbound=[0,0,0])"
   ]
  },
  {
   "cell_type": "code",
   "execution_count": 502,
   "metadata": {},
   "outputs": [
    {
     "data": {
      "image/png": "[encoded data removed]",
      "text/plain": [
       "<Figure size 432x288 with 2 Axes>"
      ]
     },
     "metadata": {
      "needs_background": "light"
     },
     "output_type": "display_data"
    }
   ],
   "source": [
    "# print\n",
    "plt.imshow(avail_lattice[:,:,0])\n",
    "plt.colorbar()\n",
    "plt.show()"
   ]
  },
  {
   "cell_type": "code",
   "execution_count": 503,
   "metadata": {},
   "outputs": [],
   "source": [
    "neigh_lattice = avail_lattice.apply_stencil(up_s)"
   ]
  },
  {
   "cell_type": "code",
   "execution_count": 504,
   "metadata": {},
   "outputs": [
    {
     "data": {
      "text/plain": [
       "(22, 16, 0)"
      ]
     },
     "execution_count": 504,
     "metadata": {},
     "output_type": "execute_result"
    }
   ],
   "source": [
    "# input joker\n",
    "joker = (8,8,1)\n",
    "\n",
    "# find position of joker\n",
    "first_2 = neigh_lattice[:,:,0]\n",
    "index_2 = np.where(first_1 ==1)\n",
    "position_2 = index_2[0][0] + 1, index_2[1][0] + joker[1] -1, 0\n",
    "position_2"
   ]
  },
  {
   "cell_type": "code",
   "execution_count": 505,
   "metadata": {},
   "outputs": [],
   "source": [
    "# place joker in the lattice\n",
    "avail_array[position_2[0]:position_2[0] + joker[0], position_2[1]:position_2[1] + joker[1], position_2[2]:position_2[2] + joker[2]] = 4"
   ]
  },
  {
   "cell_type": "code",
   "execution_count": 506,
   "metadata": {},
   "outputs": [],
   "source": [
    "# create lattice\n",
    "avail_lattice= tg.to_lattice(avail_array, minbound=[0,0,0])"
   ]
  },
  {
   "cell_type": "code",
   "execution_count": 507,
   "metadata": {},
   "outputs": [
    {
     "data": {
      "image/png": "[encoded data removed]",
      "text/plain": [
       "<Figure size 432x288 with 2 Axes>"
      ]
     },
     "metadata": {
      "needs_background": "light"
     },
     "output_type": "display_data"
    }
   ],
   "source": [
    "# print\n",
    "plt.imshow(avail_lattice[:,:,0])\n",
    "plt.colorbar()\n",
    "plt.show()"
   ]
  }
 ],
 "metadata": {
  "interpreter": {
   "hash": "2e13adbd30f4e8d92611076393500c317be3c4a246388c45226dddaf37e443c5"
  },
  "kernelspec": {
   "display_name": "Python 3.8.5 64-bit ('earthy': conda)",
   "name": "python3"
  },
  "language_info": {
   "codemirror_mode": {
    "name": "ipython",
    "version": 3
   },
   "file_extension": ".py",
   "mimetype": "text/x-python",
   "name": "python",
   "nbconvert_exporter": "python",
   "pygments_lexer": "ipython3",
   "version": "3.8.5"
  },
  "orig_nbformat": 4
 },
 "nbformat": 4,
 "nbformat_minor": 2
}
