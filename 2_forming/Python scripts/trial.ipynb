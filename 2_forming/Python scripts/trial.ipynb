{
 "cells": [
  {
   "cell_type": "code",
   "execution_count": 496,
   "metadata": {},
   "outputs": [],
   "source": [
    "import numpy as np\n",
    "import matplotlib.pyplot as plt\n",
    "import matplotlib"
   ]
  },
  {
   "cell_type": "code",
   "execution_count": 497,
   "metadata": {},
   "outputs": [
    {
     "name": "stdout",
     "output_type": "stream",
     "text": [
      "[[nan nan nan nan nan nan nan nan nan nan nan nan]\n",
      " [nan nan nan nan nan nan nan nan nan nan nan nan]\n",
      " [nan nan nan nan nan nan nan nan nan nan nan nan]\n",
      " [nan nan nan nan nan nan nan nan nan nan nan nan]\n",
      " [nan nan nan nan nan nan nan nan nan nan nan nan]\n",
      " [nan nan nan nan nan nan nan nan nan nan nan nan]\n",
      " [nan nan nan nan nan nan nan nan nan nan nan nan]\n",
      " [nan nan nan nan nan nan nan nan nan nan nan nan]\n",
      " [nan nan nan nan nan nan nan nan nan nan nan nan]\n",
      " [nan nan nan nan nan nan nan nan nan nan nan nan]\n",
      " [nan nan nan nan nan nan nan nan nan nan nan nan]\n",
      " [nan nan nan nan nan nan nan nan nan nan nan nan]]\n"
     ]
    }
   ],
   "source": [
    "N = 12\n",
    "P = 12\n",
    "# make an empty data set\n",
    "school = np.ones((N, P)) * np.nan\n",
    "print(school)"
   ]
  },
  {
   "cell_type": "code",
   "execution_count": 498,
   "metadata": {},
   "outputs": [],
   "source": [
    "# assign classroom as 0, corridor as 1, court yard as 2\n",
    "# for i in range(4,8,):\n",
    "    #for j in range(0, 3):\n",
    "        #school[i][j] = 0\n",
    "    #for j in range(3, 4,):\n",
    "        #school[i][j] = 1\n",
    "    #for j in range(4, 8,):\n",
    "        #school[i][j] = 2"
   ]
  },
  {
   "cell_type": "code",
   "execution_count": 499,
   "metadata": {},
   "outputs": [
    {
     "data": {
      "text/plain": [
       "array([[0., 0., 0., 1., 2., 2., 2., 2.],\n",
       "       [0., 0., 0., 1., 2., 2., 2., 2.],\n",
       "       [0., 0., 0., 1., 2., 2., 2., 2.],\n",
       "       [0., 0., 0., 1., 2., 2., 2., 2.]])"
      ]
     },
     "execution_count": 499,
     "metadata": {},
     "output_type": "execute_result"
    }
   ],
   "source": [
    "# make clusters seperatly for classroom = 0, corridor = 1 & court yards = 2\n",
    "classroom = np.zeros((4,3)) \n",
    "corridor = np.ones((4,1)) \n",
    "court_y = np.ones((4,4)) +1\n",
    "\n",
    "# construct one classroom module\n",
    "np.hstack((classroom,corridor,court_y))"
   ]
  },
  {
   "cell_type": "code",
   "execution_count": 500,
   "metadata": {},
   "outputs": [
    {
     "name": "stdout",
     "output_type": "stream",
     "text": [
      "[[nan nan nan nan nan nan nan nan nan nan nan nan]\n",
      " [nan nan nan nan nan nan nan nan nan nan nan nan]\n",
      " [nan nan nan nan nan nan nan nan nan nan nan nan]\n",
      " [nan nan nan nan nan nan nan nan nan nan nan nan]\n",
      " [ 0.  0.  0.  1.  2.  2.  2.  2. nan nan nan nan]\n",
      " [ 0.  0.  0.  1.  2.  2.  2.  2. nan nan nan nan]\n",
      " [ 0.  0.  0.  1.  2.  2.  2.  2. nan nan nan nan]\n",
      " [ 0.  0.  0.  1.  2.  2.  2.  2. nan nan nan nan]\n",
      " [nan nan nan nan nan nan nan nan nan nan nan nan]\n",
      " [nan nan nan nan nan nan nan nan nan nan nan nan]\n",
      " [nan nan nan nan nan nan nan nan nan nan nan nan]\n",
      " [nan nan nan nan nan nan nan nan nan nan nan nan]]\n"
     ]
    }
   ],
   "source": [
    "# add classroom module in school\n",
    "school [4:8,0:8] = np.hstack((classroom,corridor,court_y))\n",
    "print(school)"
   ]
  },
  {
   "cell_type": "code",
   "execution_count": 501,
   "metadata": {},
   "outputs": [
    {
     "data": {
      "image/png": "[encoded data removed]",
      "text/plain": [
       "<Figure size 432x288 with 1 Axes>"
      ]
     },
     "metadata": {
      "needs_background": "light"
     },
     "output_type": "display_data"
    },
    {
     "data": {
      "image/png": "[encoded data removed]",
      "text/plain": [
       "<Figure size 432x288 with 1 Axes>"
      ]
     },
     "metadata": {
      "needs_background": "light"
     },
     "output_type": "display_data"
    },
    {
     "data": {
      "image/png": "[encoded data removed]",
      "text/plain": [
       "<Figure size 432x288 with 1 Axes>"
      ]
     },
     "metadata": {
      "needs_background": "light"
     },
     "output_type": "display_data"
    },
    {
     "data": {
      "image/png": "[encoded data removed]",
      "text/plain": [
       "<Figure size 432x288 with 1 Axes>"
      ]
     },
     "metadata": {
      "needs_background": "light"
     },
     "output_type": "display_data"
    }
   ],
   "source": [
    "# define num of classrooms\n",
    "num_classrooms = 2\n",
    "if num_classrooms % 2 == 0:\n",
    "        school = school.T\n",
    "        school [4:8,0:8] = np.hstack((classroom,corridor,court_y))\n",
    "        # make a figure + axes\n",
    "        for i in range(4):\n",
    "                fig, ax = plt.subplots()\n",
    "                # put colours in modules: classroom = red, corridor = green, courtyard = blue\n",
    "                my_cmap = matplotlib.colors.ListedColormap(['r', 'g', 'b'])\n",
    "                # set the 'bad' values (nan) to be white and transparent\n",
    "                my_cmap.set_bad(color='w', alpha=0)\n",
    "                # draw the grid\n",
    "                for x in range(P + 1):\n",
    "                        ax.axhline(x, lw=2, color='k', zorder=5)\n",
    "                        ax.axvline(x, lw=2, color='k', zorder=5)\n",
    "                # plot different variations of classroom arrangment\n",
    "                school_new = np.rot90(school, i)\n",
    "                ax.imshow(school_new, interpolation='none', cmap=my_cmap, extent=[0, P, 0, N], zorder=0)\n",
    "                # turn off axis labels\n",
    "                ax.axis('off')\n",
    "                fig"
   ]
  }
 ],
 "metadata": {
  "interpreter": {
   "hash": "2e13adbd30f4e8d92611076393500c317be3c4a246388c45226dddaf37e443c5"
  },
  "kernelspec": {
   "display_name": "Python 3.8.5 64-bit ('earthy': conda)",
   "name": "python3"
  },
  "language_info": {
   "codemirror_mode": {
    "name": "ipython",
    "version": 3
   },
   "file_extension": ".py",
   "mimetype": "text/x-python",
   "name": "python",
   "nbconvert_exporter": "python",
   "pygments_lexer": "ipython3",
   "version": "3.8.5"
  },
  "orig_nbformat": 4
 },
 "nbformat": 4,
 "nbformat_minor": 2
}
