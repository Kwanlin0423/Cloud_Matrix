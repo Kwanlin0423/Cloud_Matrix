{
 "cells": [
  {
   "cell_type": "code",
   "execution_count": 120,
   "source": [
    "import numpy as np\r\n",
    "import matplotlib.pyplot as plt\r\n",
    "import matplotlib"
   ],
   "outputs": [],
   "metadata": {}
  },
  {
   "cell_type": "code",
   "execution_count": 121,
   "source": [
    "N = 12\r\n",
    "P = 12\r\n",
    "# make an empty data set\r\n",
    "school = np.zeros((N, P))\r\n",
    "print(school)"
   ],
   "outputs": [
    {
     "output_type": "stream",
     "name": "stdout",
     "text": [
      "[[0. 0. 0. 0. 0. 0. 0. 0. 0. 0. 0. 0.]\n",
      " [0. 0. 0. 0. 0. 0. 0. 0. 0. 0. 0. 0.]\n",
      " [0. 0. 0. 0. 0. 0. 0. 0. 0. 0. 0. 0.]\n",
      " [0. 0. 0. 0. 0. 0. 0. 0. 0. 0. 0. 0.]\n",
      " [0. 0. 0. 0. 0. 0. 0. 0. 0. 0. 0. 0.]\n",
      " [0. 0. 0. 0. 0. 0. 0. 0. 0. 0. 0. 0.]\n",
      " [0. 0. 0. 0. 0. 0. 0. 0. 0. 0. 0. 0.]\n",
      " [0. 0. 0. 0. 0. 0. 0. 0. 0. 0. 0. 0.]\n",
      " [0. 0. 0. 0. 0. 0. 0. 0. 0. 0. 0. 0.]\n",
      " [0. 0. 0. 0. 0. 0. 0. 0. 0. 0. 0. 0.]\n",
      " [0. 0. 0. 0. 0. 0. 0. 0. 0. 0. 0. 0.]\n",
      " [0. 0. 0. 0. 0. 0. 0. 0. 0. 0. 0. 0.]]\n"
     ]
    }
   ],
   "metadata": {}
  },
  {
   "cell_type": "code",
   "execution_count": 122,
   "source": [
    "court_y = np.ones((4,4)) +1\r\n",
    "print(court_y)"
   ],
   "outputs": [
    {
     "output_type": "stream",
     "name": "stdout",
     "text": [
      "[[2. 2. 2. 2.]\n",
      " [2. 2. 2. 2.]\n",
      " [2. 2. 2. 2.]\n",
      " [2. 2. 2. 2.]]\n"
     ]
    }
   ],
   "metadata": {}
  },
  {
   "cell_type": "code",
   "execution_count": 123,
   "source": [
    "school [4:8,4:8] = court_y\r\n",
    "print(school)"
   ],
   "outputs": [
    {
     "output_type": "stream",
     "name": "stdout",
     "text": [
      "[[0. 0. 0. 0. 0. 0. 0. 0. 0. 0. 0. 0.]\n",
      " [0. 0. 0. 0. 0. 0. 0. 0. 0. 0. 0. 0.]\n",
      " [0. 0. 0. 0. 0. 0. 0. 0. 0. 0. 0. 0.]\n",
      " [0. 0. 0. 0. 0. 0. 0. 0. 0. 0. 0. 0.]\n",
      " [0. 0. 0. 0. 2. 2. 2. 2. 0. 0. 0. 0.]\n",
      " [0. 0. 0. 0. 2. 2. 2. 2. 0. 0. 0. 0.]\n",
      " [0. 0. 0. 0. 2. 2. 2. 2. 0. 0. 0. 0.]\n",
      " [0. 0. 0. 0. 2. 2. 2. 2. 0. 0. 0. 0.]\n",
      " [0. 0. 0. 0. 0. 0. 0. 0. 0. 0. 0. 0.]\n",
      " [0. 0. 0. 0. 0. 0. 0. 0. 0. 0. 0. 0.]\n",
      " [0. 0. 0. 0. 0. 0. 0. 0. 0. 0. 0. 0.]\n",
      " [0. 0. 0. 0. 0. 0. 0. 0. 0. 0. 0. 0.]]\n"
     ]
    }
   ],
   "metadata": {}
  },
  {
   "cell_type": "code",
   "execution_count": 127,
   "source": [
    "for i in range(N):\r\n",
    "    for j in range(P):\r\n",
    "        if school[i,j] == 2:\r\n",
    "            num_neighbor = 1\r\n",
    "            left = max(0, i - num_neighbor)\r\n",
    "            right = max(0, i + num_neighbor + 1)\r\n",
    "            bottom = max(0, j - num_neighbor)\r\n",
    "            top = max(0, j + num_neighbor + 1)\r\n",
    "            for k in range(left,right):\r\n",
    "                for a in range(bottom,top):\r\n",
    "                   if school[k,a] != 2:\r\n",
    "                        school[k,a]= 1\r\n",
    "print(school)\r\n",
    "           \r\n"
   ],
   "outputs": [
    {
     "output_type": "stream",
     "name": "stdout",
     "text": [
      "[[0. 0. 0. 0. 0. 0. 0. 0. 0. 0. 0. 0.]\n",
      " [0. 0. 0. 0. 0. 0. 0. 0. 0. 0. 0. 0.]\n",
      " [0. 0. 0. 0. 0. 0. 0. 0. 0. 0. 0. 0.]\n",
      " [0. 0. 0. 1. 1. 1. 1. 1. 1. 0. 0. 0.]\n",
      " [0. 0. 0. 1. 2. 2. 2. 2. 1. 0. 0. 0.]\n",
      " [0. 0. 0. 1. 2. 2. 2. 2. 1. 0. 0. 0.]\n",
      " [0. 0. 0. 1. 2. 2. 2. 2. 1. 0. 0. 0.]\n",
      " [0. 0. 0. 1. 2. 2. 2. 2. 1. 0. 0. 0.]\n",
      " [0. 0. 0. 1. 1. 1. 1. 1. 1. 0. 0. 0.]\n",
      " [0. 0. 0. 0. 0. 0. 0. 0. 0. 0. 0. 0.]\n",
      " [0. 0. 0. 0. 0. 0. 0. 0. 0. 0. 0. 0.]\n",
      " [0. 0. 0. 0. 0. 0. 0. 0. 0. 0. 0. 0.]]\n"
     ]
    }
   ],
   "metadata": {}
  },
  {
   "cell_type": "code",
   "execution_count": 135,
   "source": [
    "for i in range(N):\r\n",
    "    for j in range(P):\r\n",
    "        if school[i,j] == 2:\r\n",
    "            num_neighbor = 1\r\n",
    "            left = max(1, i - num_neighbor)\r\n",
    "            right = max(1, i + num_neighbor + 1)\r\n",
    "            bottom = max(1, j - num_neighbor)\r\n",
    "            top = max(1, j + num_neighbor + 1)\r\n",
    "            for k in range(left,right):\r\n",
    "                for a in range(bottom,top):\r\n",
    "                   if school[k,a] != 2:\r\n",
    "                        school[k,a]= 3\r\n",
    "print(school)"
   ],
   "outputs": [
    {
     "output_type": "stream",
     "name": "stdout",
     "text": [
      "[[0. 0. 0. 0. 0. 0. 0. 0. 0. 0. 0. 0.]\n",
      " [0. 0. 0. 0. 0. 0. 0. 0. 0. 0. 0. 0.]\n",
      " [0. 0. 3. 3. 3. 3. 3. 3. 3. 3. 0. 0.]\n",
      " [0. 0. 3. 3. 3. 3. 3. 3. 3. 3. 0. 0.]\n",
      " [0. 0. 3. 3. 2. 2. 2. 2. 3. 3. 0. 0.]\n",
      " [0. 0. 3. 3. 2. 2. 2. 2. 3. 3. 0. 0.]\n",
      " [0. 0. 3. 3. 2. 2. 2. 2. 3. 3. 0. 0.]\n",
      " [0. 0. 3. 3. 2. 2. 2. 2. 3. 3. 0. 0.]\n",
      " [0. 0. 3. 3. 3. 3. 3. 3. 3. 3. 0. 0.]\n",
      " [0. 0. 3. 3. 3. 3. 3. 3. 3. 3. 0. 0.]\n",
      " [0. 0. 0. 0. 0. 0. 0. 0. 0. 0. 0. 0.]\n",
      " [0. 0. 0. 0. 0. 0. 0. 0. 0. 0. 0. 0.]]\n"
     ]
    }
   ],
   "metadata": {}
  }
 ],
 "metadata": {
  "orig_nbformat": 4,
  "language_info": {
   "name": "python",
   "version": "3.8.5",
   "mimetype": "text/x-python",
   "codemirror_mode": {
    "name": "ipython",
    "version": 3
   },
   "pygments_lexer": "ipython3",
   "nbconvert_exporter": "python",
   "file_extension": ".py"
  },
  "kernelspec": {
   "name": "python3",
   "display_name": "Python 3.8.5 64-bit ('earthy': conda)"
  },
  "interpreter": {
   "hash": "2e13adbd30f4e8d92611076393500c317be3c4a246388c45226dddaf37e443c5"
  }
 },
 "nbformat": 4,
 "nbformat_minor": 2
}