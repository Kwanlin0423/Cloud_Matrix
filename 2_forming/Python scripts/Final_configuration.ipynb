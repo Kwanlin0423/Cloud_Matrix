{
 "cells": [
  {
   "cell_type": "code",
   "execution_count": 20,
   "metadata": {},
   "outputs": [],
   "source": [
    "#### CONFIGURATION OF PUBLIC CLUSTER (public, administration, services) ####"
   ]
  },
  {
   "cell_type": "code",
   "execution_count": 21,
   "metadata": {},
   "outputs": [
    {
     "ename": "AttributeError",
     "evalue": "partially initialized module 'pandas' has no attribute 'core' (most likely due to a circular import)",
     "output_type": "error",
     "traceback": [
      "\u001b[1;31m---------------------------------------------------------------------------\u001b[0m",
      "\u001b[1;31mAttributeError\u001b[0m                            Traceback (most recent call last)",
      "\u001b[1;32m~\\AppData\\Local\\Temp/ipykernel_2064/610553828.py\u001b[0m in \u001b[0;36m<module>\u001b[1;34m\u001b[0m\n\u001b[1;32m----> 1\u001b[1;33m \u001b[1;32mimport\u001b[0m \u001b[0mtopogenesis\u001b[0m \u001b[1;32mas\u001b[0m \u001b[0mtg\u001b[0m\u001b[1;33m\u001b[0m\u001b[1;33m\u001b[0m\u001b[0m\n\u001b[0m\u001b[0;32m      2\u001b[0m \u001b[1;32mimport\u001b[0m \u001b[0mnumpy\u001b[0m \u001b[1;32mas\u001b[0m \u001b[0mnp\u001b[0m\u001b[1;33m\u001b[0m\u001b[1;33m\u001b[0m\u001b[0m\n\u001b[0;32m      3\u001b[0m \u001b[1;32mimport\u001b[0m \u001b[0mmatplotlib\u001b[0m\u001b[1;33m.\u001b[0m\u001b[0mpyplot\u001b[0m \u001b[1;32mas\u001b[0m \u001b[0mplt\u001b[0m\u001b[1;33m\u001b[0m\u001b[1;33m\u001b[0m\u001b[0m\n\u001b[0;32m      4\u001b[0m \u001b[1;32mimport\u001b[0m \u001b[0mmatplotlib\u001b[0m\u001b[1;33m\u001b[0m\u001b[1;33m\u001b[0m\u001b[0m\n",
      "\u001b[1;32mc:\\users\\mariana\\[ mariana ]\\[ tudelft ]\\[ 5th quarter ]\\earthy& swat\\[ workshops ]\\w3_graphs_fields\\w3_graphs_fields\\topogenesis\\topogenesis\\__init__.py\u001b[0m in \u001b[0;36m<module>\u001b[1;34m\u001b[0m\n\u001b[0;32m      1\u001b[0m \u001b[1;31m# from .data import *\u001b[0m\u001b[1;33m\u001b[0m\u001b[1;33m\u001b[0m\u001b[1;33m\u001b[0m\u001b[0m\n\u001b[1;32m----> 2\u001b[1;33m \u001b[1;32mfrom\u001b[0m \u001b[1;33m.\u001b[0m\u001b[0mdatastructures\u001b[0m \u001b[1;32mimport\u001b[0m \u001b[1;33m*\u001b[0m\u001b[1;33m\u001b[0m\u001b[1;33m\u001b[0m\u001b[0m\n\u001b[0m\u001b[0;32m      3\u001b[0m \u001b[1;33m\u001b[0m\u001b[0m\n\u001b[0;32m      4\u001b[0m \u001b[1;32mfrom\u001b[0m \u001b[1;33m.\u001b[0m \u001b[1;32mimport\u001b[0m \u001b[0mgeometry\u001b[0m\u001b[1;33m\u001b[0m\u001b[1;33m\u001b[0m\u001b[0m\n\u001b[0;32m      5\u001b[0m \u001b[1;31m# importing as a module\u001b[0m\u001b[1;33m\u001b[0m\u001b[1;33m\u001b[0m\u001b[1;33m\u001b[0m\u001b[0m\n",
      "\u001b[1;32mc:\\users\\mariana\\[ mariana ]\\[ tudelft ]\\[ 5th quarter ]\\earthy& swat\\[ workshops ]\\w3_graphs_fields\\w3_graphs_fields\\topogenesis\\topogenesis\\datastructures\\__init__.py\u001b[0m in \u001b[0;36m<module>\u001b[1;34m\u001b[0m\n\u001b[0;32m      1\u001b[0m \u001b[1;33m\u001b[0m\u001b[0m\n\u001b[1;32m----> 2\u001b[1;33m \u001b[1;32mfrom\u001b[0m \u001b[1;33m.\u001b[0m\u001b[0mdatastructures\u001b[0m \u001b[1;32mimport\u001b[0m \u001b[1;33m*\u001b[0m\u001b[1;33m\u001b[0m\u001b[1;33m\u001b[0m\u001b[0m\n\u001b[0m\u001b[0;32m      3\u001b[0m \u001b[1;32mfrom\u001b[0m \u001b[1;33m.\u001b[0m\u001b[0mutilities\u001b[0m \u001b[1;32mimport\u001b[0m \u001b[1;33m*\u001b[0m\u001b[1;33m\u001b[0m\u001b[1;33m\u001b[0m\u001b[0m\n\u001b[0;32m      4\u001b[0m \u001b[1;32mfrom\u001b[0m \u001b[1;33m.\u001b[0m \u001b[1;32mimport\u001b[0m \u001b[0msfunc\u001b[0m\u001b[1;33m\u001b[0m\u001b[1;33m\u001b[0m\u001b[0m\n\u001b[0;32m      5\u001b[0m \u001b[1;33m\u001b[0m\u001b[0m\n",
      "\u001b[1;32mc:\\users\\mariana\\[ mariana ]\\[ tudelft ]\\[ 5th quarter ]\\earthy& swat\\[ workshops ]\\w3_graphs_fields\\w3_graphs_fields\\topogenesis\\topogenesis\\datastructures\\datastructures.py\u001b[0m in \u001b[0;36m<module>\u001b[1;34m\u001b[0m\n\u001b[0;32m      5\u001b[0m \u001b[1;32mfrom\u001b[0m \u001b[0mscipy\u001b[0m\u001b[1;33m.\u001b[0m\u001b[0mspatial\u001b[0m\u001b[1;33m.\u001b[0m\u001b[0mtransform\u001b[0m \u001b[1;32mimport\u001b[0m \u001b[0mRotation\u001b[0m \u001b[1;32mas\u001b[0m \u001b[0msp_rotation\u001b[0m\u001b[1;33m\u001b[0m\u001b[1;33m\u001b[0m\u001b[0m\n\u001b[0;32m      6\u001b[0m \u001b[1;32mimport\u001b[0m \u001b[0mnumpy\u001b[0m \u001b[1;32mas\u001b[0m \u001b[0mnp\u001b[0m\u001b[1;33m\u001b[0m\u001b[1;33m\u001b[0m\u001b[0m\n\u001b[1;32m----> 7\u001b[1;33m \u001b[1;32mimport\u001b[0m \u001b[0mpandas\u001b[0m \u001b[1;32mas\u001b[0m \u001b[0mpd\u001b[0m\u001b[1;33m\u001b[0m\u001b[1;33m\u001b[0m\u001b[0m\n\u001b[0m\u001b[0;32m      8\u001b[0m \u001b[1;32mimport\u001b[0m \u001b[0mpyvista\u001b[0m \u001b[1;32mas\u001b[0m \u001b[0mpv\u001b[0m\u001b[1;33m\u001b[0m\u001b[1;33m\u001b[0m\u001b[0m\n\u001b[0;32m      9\u001b[0m \u001b[1;32mimport\u001b[0m \u001b[0mitertools\u001b[0m\u001b[1;33m\u001b[0m\u001b[1;33m\u001b[0m\u001b[0m\n",
      "\u001b[1;32m~\\anaconda3\\envs\\earthy\\lib\\site-packages\\pandas\\__init__.py\u001b[0m in \u001b[0;36m<module>\u001b[1;34m\u001b[0m\n\u001b[0;32m    177\u001b[0m \u001b[1;33m\u001b[0m\u001b[0m\n\u001b[0;32m    178\u001b[0m \u001b[1;32mfrom\u001b[0m \u001b[0mpandas\u001b[0m\u001b[1;33m.\u001b[0m\u001b[0mutil\u001b[0m\u001b[1;33m.\u001b[0m\u001b[0m_tester\u001b[0m \u001b[1;32mimport\u001b[0m \u001b[0mtest\u001b[0m\u001b[1;33m\u001b[0m\u001b[1;33m\u001b[0m\u001b[0m\n\u001b[1;32m--> 179\u001b[1;33m \u001b[1;32mimport\u001b[0m \u001b[0mpandas\u001b[0m\u001b[1;33m.\u001b[0m\u001b[0mtesting\u001b[0m\u001b[1;33m\u001b[0m\u001b[1;33m\u001b[0m\u001b[0m\n\u001b[0m\u001b[0;32m    180\u001b[0m \u001b[1;32mimport\u001b[0m \u001b[0mpandas\u001b[0m\u001b[1;33m.\u001b[0m\u001b[0marrays\u001b[0m\u001b[1;33m\u001b[0m\u001b[1;33m\u001b[0m\u001b[0m\n\u001b[0;32m    181\u001b[0m \u001b[1;33m\u001b[0m\u001b[0m\n",
      "\u001b[1;32m~\\anaconda3\\envs\\earthy\\lib\\site-packages\\pandas\\testing.py\u001b[0m in \u001b[0;36m<module>\u001b[1;34m\u001b[0m\n\u001b[0;32m      4\u001b[0m \u001b[1;33m\u001b[0m\u001b[0m\n\u001b[0;32m      5\u001b[0m \u001b[1;33m\u001b[0m\u001b[0m\n\u001b[1;32m----> 6\u001b[1;33m from pandas._testing import (\n\u001b[0m\u001b[0;32m      7\u001b[0m     \u001b[0massert_extension_array_equal\u001b[0m\u001b[1;33m,\u001b[0m\u001b[1;33m\u001b[0m\u001b[1;33m\u001b[0m\u001b[0m\n\u001b[0;32m      8\u001b[0m     \u001b[0massert_frame_equal\u001b[0m\u001b[1;33m,\u001b[0m\u001b[1;33m\u001b[0m\u001b[1;33m\u001b[0m\u001b[0m\n",
      "\u001b[1;32m~\\anaconda3\\envs\\earthy\\lib\\site-packages\\pandas\\_testing\\__init__.py\u001b[0m in \u001b[0;36m<module>\u001b[1;34m\u001b[0m\n\u001b[0;32m    946\u001b[0m \u001b[1;33m\u001b[0m\u001b[0m\n\u001b[0;32m    947\u001b[0m \u001b[1;33m\u001b[0m\u001b[0m\n\u001b[1;32m--> 948\u001b[1;33m \u001b[0mcython_table\u001b[0m \u001b[1;33m=\u001b[0m \u001b[0mpd\u001b[0m\u001b[1;33m.\u001b[0m\u001b[0mcore\u001b[0m\u001b[1;33m.\u001b[0m\u001b[0mcommon\u001b[0m\u001b[1;33m.\u001b[0m\u001b[0m_cython_table\u001b[0m\u001b[1;33m.\u001b[0m\u001b[0mitems\u001b[0m\u001b[1;33m(\u001b[0m\u001b[1;33m)\u001b[0m\u001b[1;33m\u001b[0m\u001b[1;33m\u001b[0m\u001b[0m\n\u001b[0m\u001b[0;32m    949\u001b[0m \u001b[1;33m\u001b[0m\u001b[0m\n\u001b[0;32m    950\u001b[0m \u001b[1;33m\u001b[0m\u001b[0m\n",
      "\u001b[1;31mAttributeError\u001b[0m: partially initialized module 'pandas' has no attribute 'core' (most likely due to a circular import)"
     ]
    }
   ],
   "source": [
    "import topogenesis as tg\n",
    "import numpy as np\n",
    "import matplotlib.pyplot as plt\n",
    "import matplotlib"
   ]
  },
  {
   "cell_type": "code",
   "execution_count": null,
   "metadata": {},
   "outputs": [],
   "source": [
    "# create an array of 0s\n",
    "# dimensions are selected from the vacant area that was selected \n",
    "# during the urban analysis\n",
    "width = 98\n",
    "length = 35\n",
    "avail_array = np.zeros((width,length,1), dtype=int)\n",
    "p_array = np.copy(avail_array)"
   ]
  },
  {
   "cell_type": "code",
   "execution_count": null,
   "metadata": {},
   "outputs": [],
   "source": [
    "# create array every i cells\n",
    "def grid(i):\n",
    "    array = np.array(avail_array, copy=True)\n",
    "    array[0::i,::i] = 1\n",
    "    array[::i,i-1::i] = 2\n",
    "    array[i-1::i,i-1::i] = 3\n",
    "    array[i-1::i,::i] = 4\n",
    "    return array"
   ]
  },
  {
   "cell_type": "code",
   "execution_count": null,
   "metadata": {},
   "outputs": [],
   "source": [
    "# create 8 cell array\n",
    "eight_array = grid(8)\n",
    "# create 2 cell array\n",
    "two_array = grid(2)"
   ]
  },
  {
   "cell_type": "code",
   "execution_count": null,
   "metadata": {},
   "outputs": [],
   "source": [
    "def plot(array_x):\n",
    "    fig, ax = plt.subplots()\n",
    "    plt.imshow(array_x)\n",
    "    for x in range(98):\n",
    "        ax.axhline(x, lw=0.1, color='k', zorder=5)\n",
    "    for x in range(35):\n",
    "        ax.axvline(x, lw=0.1, color='k', zorder=5)\n",
    "    plt.colorbar()\n",
    "    plt.show()"
   ]
  },
  {
   "cell_type": "code",
   "execution_count": null,
   "metadata": {},
   "outputs": [],
   "source": [
    "plot(eight_array)"
   ]
  },
  {
   "cell_type": "code",
   "execution_count": null,
   "metadata": {},
   "outputs": [],
   "source": [
    "plot(two_array)"
   ]
  },
  {
   "cell_type": "code",
   "execution_count": null,
   "metadata": {},
   "outputs": [],
   "source": [
    "first_column = eight_array[::,0]\n",
    "a = np.argwhere(first_column ==1)\n",
    "point = a[len(a)//2]"
   ]
  },
  {
   "cell_type": "code",
   "execution_count": null,
   "metadata": {},
   "outputs": [],
   "source": [
    "def courtyard(point):\n",
    "    c = (8,8,1)\n",
    "    avail_array[point[0]:point[0] + c[0], point[1]:point[1] + c[1]] = 1"
   ]
  },
  {
   "cell_type": "code",
   "execution_count": null,
   "metadata": {},
   "outputs": [],
   "source": [
    "# applying main courtyard to the middle of the plot \n",
    "# connected to the smallest side with the road\n",
    "courtyard(point)\n",
    "point_2 = (point[0], point[1]+8, 1)\n",
    "courtyard(point_2)\n",
    "plot(avail_array)"
   ]
  },
  {
   "cell_type": "code",
   "execution_count": null,
   "metadata": {},
   "outputs": [],
   "source": [
    "avail_lattice = tg.to_lattice(avail_array, minbound=[0,0,0])"
   ]
  },
  {
   "cell_type": "code",
   "execution_count": null,
   "metadata": {},
   "outputs": [],
   "source": [
    "up_s = tg.create_stencil(\"moore\", 2, 2)\n",
    "up_s.function = tg.sfunc.sum "
   ]
  },
  {
   "cell_type": "code",
   "execution_count": null,
   "metadata": {},
   "outputs": [],
   "source": [
    "vn_stencil = tg.create_stencil(\"von_neumann\", 1, 1)\n",
    "vn_stencil[1, 1, 1] = 0\n",
    "vn_stencil[1, 1, :] = 0\n",
    "vn_stencil.function = tg.sfunc.sum "
   ]
  },
  {
   "cell_type": "code",
   "execution_count": null,
   "metadata": {},
   "outputs": [],
   "source": [
    "neigh2_lattice = avail_lattice.apply_stencil(up_s)"
   ]
  },
  {
   "cell_type": "code",
   "execution_count": null,
   "metadata": {},
   "outputs": [],
   "source": [
    "plt.imshow((neigh2_lattice[:,:,0]>=1) * (avail_lattice[:,:,0]==0))\n",
    "plt.colorbar()\n",
    "plt.show()"
   ]
  },
  {
   "cell_type": "code",
   "execution_count": null,
   "metadata": {},
   "outputs": [],
   "source": [
    "# apply corridor to all the sides of the main courtyard\n",
    "corridor = np.argwhere((neigh2_lattice[:,:,0]>=1) * (avail_lattice[:,:,0]==0))\n",
    "for i in range(len(corridor)):\n",
    "    avail_array[corridor[i][0],corridor[i][1]] = 2"
   ]
  },
  {
   "cell_type": "code",
   "execution_count": null,
   "metadata": {},
   "outputs": [],
   "source": [
    "plot(avail_array)"
   ]
  },
  {
   "cell_type": "code",
   "execution_count": null,
   "metadata": {},
   "outputs": [],
   "source": [
    "avail_lattice = tg.to_lattice(avail_array, minbound=[0,0,0])\n",
    "neigh_lattice = avail_lattice.apply_stencil(vn_stencil)"
   ]
  },
  {
   "cell_type": "code",
   "execution_count": null,
   "metadata": {},
   "outputs": [],
   "source": [
    "plt.imshow(neigh_lattice == 2)\n",
    "plt.colorbar()\n",
    "plt.show()"
   ]
  },
  {
   "cell_type": "code",
   "execution_count": null,
   "metadata": {},
   "outputs": [],
   "source": [
    "def find_possible_p(new_lattice, array, avail, i):\n",
    "    # points where we have neighbours and number 1s (down and side cells)\n",
    "    points_2 = np.argwhere(((new_lattice == i)*(array == 1)*(avail == 0)) == 1)\n",
    "\n",
    "    # points where we have neighbours and number 3s (up cells) - find 1s to apply spaces\n",
    "    points_3 = np.argwhere(((new_lattice == i)*(array == 3)*(avail == 0)) == 1)\n",
    "    point_A = points_3[:][:]-[7,7,0]\n",
    "    neg = np.where(point_A[:][:] < 0)\n",
    "    point_A = np.delete(point_A, neg, axis=0)\n",
    "\n",
    "    # all points together\n",
    "    p = np.append(points_2, point_A, axis=0)\n",
    "    return p"
   ]
  },
  {
   "cell_type": "code",
   "execution_count": null,
   "metadata": {},
   "outputs": [],
   "source": [
    "p = find_possible_p(neigh_lattice, two_array, avail_array, 2)"
   ]
  },
  {
   "cell_type": "code",
   "execution_count": null,
   "metadata": {},
   "outputs": [],
   "source": [
    "# definition of public spaces with 8*8 m2 (top starting point, index number)\n",
    "def public(point,i):\n",
    "    c = (8,8,1)\n",
    "    avail_array[point[0]:point[0] + c[0], point[1]:point[1] + c[1]] = i"
   ]
  },
  {
   "cell_type": "code",
   "execution_count": null,
   "metadata": {},
   "outputs": [],
   "source": [
    "# array of possible points\n",
    "p_array = np.zeros((width,length,1), dtype=int)\n",
    "for i in range(len(p)):\n",
    "    p_array[p[i][0], p[i][1]] = 1\n",
    "plot(p_array)"
   ]
  },
  {
   "cell_type": "code",
   "execution_count": null,
   "metadata": {},
   "outputs": [],
   "source": [
    "# adding joker 8*8 \n",
    "# connected to the corridor of the main courtyard\n",
    "i = 0\n",
    "while i <= 0:\n",
    "    a = False\n",
    "    while a == False:\n",
    "        si = p[np.random.choice(len(p), 1, replace=False)[0]]\n",
    "        ar = np.sum(p_array[si[0]:si[0]+8, si[1]]==1) == 4\n",
    "        ac = np.sum(p_array[si[0], si[1]:si[1]+8]==1) == 4\n",
    "        a = ar or ac\n",
    "        if (a==True)*(avail_array[si[0], si[1]] != 3) == 1:\n",
    "            public(si,3)\n",
    "            i = i + 1\n",
    "            if ar == True:\n",
    "                p_array[si[0]:si[0]+8, si[1]] = 0\n",
    "            else:\n",
    "                p_array[si[0], si[1]:si[1]+8] = 0\n",
    "        else:\n",
    "            a = False\n",
    "plot(avail_array)"
   ]
  },
  {
   "cell_type": "code",
   "execution_count": null,
   "metadata": {},
   "outputs": [],
   "source": [
    "avail_lattice = tg.to_lattice(avail_array, minbound=[0,0,0])\n",
    "neigh_lattice = avail_lattice.apply_stencil(vn_stencil)"
   ]
  },
  {
   "cell_type": "code",
   "execution_count": null,
   "metadata": {},
   "outputs": [],
   "source": [
    "p = find_possible_p(neigh_lattice, two_array, avail_array, 2)"
   ]
  },
  {
   "cell_type": "code",
   "execution_count": null,
   "metadata": {},
   "outputs": [],
   "source": [
    "# array of possible points\n",
    "p_array = np.zeros((width,length,1), dtype=int)\n",
    "for i in range(len(p)):\n",
    "    p_array[p[i][0], p[i][1]] = 1\n",
    "plot(p_array)"
   ]
  },
  {
   "cell_type": "code",
   "execution_count": null,
   "metadata": {},
   "outputs": [],
   "source": [
    "# adding sitting area 8*8 \n",
    "# connected to the corridor of the main courtyard\n",
    "i = 0\n",
    "while i <= 0:\n",
    "    a = False\n",
    "    while a == False:\n",
    "        si = p[np.random.choice(len(p), 1, replace=False)[0]]\n",
    "        ar = np.sum(p_array[si[0]:si[0]+8, si[1]]==1) == 4\n",
    "        ac = np.sum(p_array[si[0], si[1]:si[1]+8]==1) == 4\n",
    "        a = ar or ac\n",
    "        if (a==True)*(avail_array[si[0], si[1]] != 3) == 1:\n",
    "            public(si,10)\n",
    "            i = i + 1\n",
    "            if ar == True:\n",
    "                p_array[si[0]:si[0]+8, si[1]] = 0\n",
    "            else:\n",
    "                p_array[si[0], si[1]:si[1]+8] = 0\n",
    "        else:\n",
    "            a = False\n",
    "plot(avail_array)"
   ]
  },
  {
   "cell_type": "code",
   "execution_count": null,
   "metadata": {},
   "outputs": [],
   "source": [
    "avail_lattice = tg.to_lattice(avail_array, minbound=[0,0,0])\n",
    "neigh_lattice = avail_lattice.apply_stencil(vn_stencil)"
   ]
  },
  {
   "cell_type": "code",
   "execution_count": null,
   "metadata": {},
   "outputs": [],
   "source": [
    "p = find_possible_p(neigh_lattice, two_array, avail_array, 2)"
   ]
  },
  {
   "cell_type": "code",
   "execution_count": null,
   "metadata": {},
   "outputs": [],
   "source": [
    "# array of possible points\n",
    "p_array = np.zeros((width,length,1), dtype=int)\n",
    "for i in range(len(p)):\n",
    "    p_array[p[i][0], p[i][1]] = 1\n",
    "plot(p_array)"
   ]
  },
  {
   "cell_type": "code",
   "execution_count": null,
   "metadata": {},
   "outputs": [],
   "source": [
    "# adding playground 8*8 \n",
    "# connected to the corridor of the main courtyard\n",
    "i = 0\n",
    "while i <= 0:\n",
    "    a = False\n",
    "    while a == False:\n",
    "        si = p[np.random.choice(len(p), 1, replace=False)[0]]\n",
    "        ar = np.sum(p_array[si[0]:si[0]+8, si[1]]==1) == 4\n",
    "        ac = np.sum(p_array[si[0], si[1]:si[1]+8]==1) == 4\n",
    "        a = ar or ac\n",
    "        if (a==True)*(avail_array[si[0], si[1]] != 3) == 1:\n",
    "            public(si,11)\n",
    "            i = i + 1\n",
    "            if ar == True:\n",
    "                p_array[si[0]:si[0]+8, si[1]] = 0\n",
    "            else:\n",
    "                p_array[si[0], si[1]:si[1]+8] = 0\n",
    "        else:\n",
    "            a = False\n",
    "plot(avail_array)"
   ]
  },
  {
   "cell_type": "code",
   "execution_count": null,
   "metadata": {},
   "outputs": [],
   "source": [
    "avail_lattice = tg.to_lattice(avail_array, minbound=[0,0,0])\n",
    "neigh_lattice = avail_lattice.apply_stencil(vn_stencil)"
   ]
  },
  {
   "cell_type": "code",
   "execution_count": null,
   "metadata": {},
   "outputs": [],
   "source": [
    "# definition of secondary spaces with 8*4 m2 (top starting point, index number)\n",
    "def services_v(point,i):\n",
    "    c = (8,4,1)\n",
    "    avail_array[point[0]:point[0] + c[0], point[1]:point[1] + c[1]] = i\n",
    "def services_h(point,i):\n",
    "    c = (4,8,1)\n",
    "    avail_array[point[0]:point[0] + c[0], point[1]:point[1] + c[1]] = i\n",
    "def services(point,i,h,v):\n",
    "    if h == True:\n",
    "        services_h(point,i)\n",
    "    else:\n",
    "        services_v(point,i)"
   ]
  },
  {
   "cell_type": "code",
   "execution_count": null,
   "metadata": {},
   "outputs": [],
   "source": [
    "p = find_possible_p(neigh_lattice, two_array, avail_array, 2)"
   ]
  },
  {
   "cell_type": "code",
   "execution_count": null,
   "metadata": {},
   "outputs": [],
   "source": [
    "# array of possible points\n",
    "p_array = np.zeros((width,length,1), dtype=int)\n",
    "for i in range(len(p)):\n",
    "    p_array[p[i][0], p[i][1]] = 1\n",
    "plot(p_array)"
   ]
  },
  {
   "cell_type": "code",
   "execution_count": null,
   "metadata": {},
   "outputs": [],
   "source": [
    "# adding public toilets & canteen unit 8*4 \n",
    "# connected from the smallest edge to the corridor of the main courtyard\n",
    "b = np.argwhere(p_array == 1)\n",
    "i = 0\n",
    "j = 0\n",
    "while i <= 1:\n",
    "    av = False\n",
    "    while (av == False) and (j < 10000):\n",
    "        bi = b[np.random.choice(len(b), 1, replace=False)[0]]\n",
    "        ar = np.sum(p_array[bi[0]:bi[0]+4, bi[1]]==1) == 2\n",
    "        ac = np.sum(p_array[bi[0], bi[1]:bi[1]+4]==1) == 2\n",
    "        av = ar or ac\n",
    "        if (av == True) * (avail_array[bi[0], bi[1]] == 0) == 1:\n",
    "            services(bi,4,ar,ac)\n",
    "            i = i + 1\n",
    "            if ar == True:\n",
    "                p_array[bi[0]:bi[0]+8, bi[1]] = 0\n",
    "            else:\n",
    "                p_array[bi[0], bi[1]:bi[1]+8] = 0\n",
    "        else:\n",
    "            av = False\n",
    "            j = j + 1\n",
    "    if j == 10000:\n",
    "        i = i + 1\n",
    "plot(avail_array)"
   ]
  },
  {
   "cell_type": "code",
   "execution_count": null,
   "metadata": {},
   "outputs": [],
   "source": [
    "avail_lattice = tg.to_lattice(avail_array, minbound=[0,0,0])\n",
    "k_array = np.zeros((width,length,1), dtype=int)\n",
    "k_array[np.where(avail_lattice==10)] = 1\n",
    "k_lattice = tg.to_lattice(k_array, minbound=[0,0,0])\n",
    "neigh_lattice = k_lattice.apply_stencil(vn_stencil)"
   ]
  },
  {
   "cell_type": "code",
   "execution_count": null,
   "metadata": {},
   "outputs": [],
   "source": [
    "# points where we have neighbours and number 1s (down and side cells)\n",
    "pf = np.argwhere(((neigh_lattice == 1)*(avail_array == 0)) == 1)"
   ]
  },
  {
   "cell_type": "code",
   "execution_count": null,
   "metadata": {},
   "outputs": [],
   "source": [
    "# array of possible points\n",
    "p_array = np.zeros((width,length,1), dtype=int)\n",
    "\n",
    "for i in range(len(pf)):\n",
    "    p_array[pf[i][0], pf[i][1]] = 1\n",
    "plot(p_array)"
   ]
  },
  {
   "cell_type": "code",
   "execution_count": null,
   "metadata": {},
   "outputs": [],
   "source": [
    "plt.imshow((neigh_lattice==1))\n",
    "plt.colorbar()\n",
    "plt.show()\n",
    "si = pf[np.random.choice(len(pf), 1, replace=False)[0]]"
   ]
  },
  {
   "cell_type": "code",
   "execution_count": null,
   "metadata": {},
   "outputs": [],
   "source": [
    "# adding First_aid 8*8 connected to Sitting Area\n",
    "i = 0\n",
    "j = 0\n",
    "while i <= 0:\n",
    "    a = False\n",
    "    while (a == False) and (j < 5000):\n",
    "        si = pf[np.random.choice(len(pf), 1, replace=False)[0]]\n",
    "        ar = np.sum(p_array[si[0]:si[0]+8, si[1]]==1) == 8\n",
    "        ac = np.sum(p_array[si[0], si[1]:si[1]+8]==1) == 8\n",
    "        a = ar or ac\n",
    "        if a==True:\n",
    "            if ar == True:\n",
    "                if avail_array[si[0],si[1]-1] == 0:\n",
    "                    if np.sum(avail_array[si[0],si[1]:si[1]-8] == 0) == 8:\n",
    "                        si = si[:][:]-[0,7,0]      \n",
    "                    else:\n",
    "                        a = False  \n",
    "                else:\n",
    "                    if np.sum(avail_array[si[0],si[1]:si[1]+8] == 0) != 8 :\n",
    "                        a = False         \n",
    "            else:\n",
    "                if avail_array[si[0]-1,si[1]] == 0:\n",
    "                    if np.sum(avail_array[si[0]-8,si[1]] == 0) == 8:\n",
    "                        si = si[:][:]-[7,0,0]  \n",
    "                    else:\n",
    "                        a = False\n",
    "                else:\n",
    "                   if np.sum(avail_array[si[0],si[1]:si[1]+8] == 0) != 8:\n",
    "                        a = False \n",
    "            if a == True:\n",
    "                public(si,5)\n",
    "                i = i + 1\n",
    "        else:\n",
    "            a = False\n",
    "            j = j + 1\n",
    "    if j == 5000:\n",
    "        i = i + 1\n",
    "plot(avail_array)"
   ]
  },
  {
   "cell_type": "code",
   "execution_count": null,
   "metadata": {},
   "outputs": [],
   "source": [
    "avail_lattice = tg.to_lattice(avail_array, minbound=[0,0,0])\n",
    "k_array = np.zeros((width,length,1), dtype=int)\n",
    "k_array[np.where(avail_lattice==3)] = 1\n",
    "k_lattice = tg.to_lattice(k_array, minbound=[0,0,0])\n",
    "neigh_lattice = k_lattice.apply_stencil(vn_stencil)"
   ]
  },
  {
   "cell_type": "code",
   "execution_count": null,
   "metadata": {},
   "outputs": [],
   "source": [
    "# points where we have neighbours and number 1s (down and side cells)\n",
    "pf = np.argwhere(((neigh_lattice == 1)*(avail_array == 0)) == 1)"
   ]
  },
  {
   "cell_type": "code",
   "execution_count": null,
   "metadata": {},
   "outputs": [],
   "source": [
    "# array of possible points\n",
    "p_array = np.zeros((width,length,1), dtype=int)\n",
    "\n",
    "for i in range(len(pf)):\n",
    "    p_array[pf[i][0], pf[i][1]] = 1\n",
    "plot(p_array)"
   ]
  },
  {
   "cell_type": "code",
   "execution_count": null,
   "metadata": {},
   "outputs": [],
   "source": [
    "plt.imshow((neigh_lattice==1))\n",
    "plt.colorbar()\n",
    "plt.show()\n",
    "si = pf[np.random.choice(len(pf), 1, replace=False)[0]]"
   ]
  },
  {
   "cell_type": "code",
   "execution_count": null,
   "metadata": {},
   "outputs": [],
   "source": [
    "# adding Joker expansion 8*8 connected to first Joker\n",
    "i = 0\n",
    "j = 0\n",
    "while i <= 0:\n",
    "    a = False\n",
    "    while (a == False) and (j < 1000):\n",
    "        si = pf[np.random.choice(len(pf), 1, replace=False)[0]]\n",
    "        ar = np.sum(p_array[si[0]:si[0]+8, si[1]]==1) == 8\n",
    "        ac = np.sum(p_array[si[0], si[1]:si[1]+8]==1) == 8\n",
    "        a = ar or ac\n",
    "        if a==True:\n",
    "            if ar == True:\n",
    "                if avail_array[si[0],si[1]-1] == 0:\n",
    "                    if np.sum(avail_array[si[0],si[1]:si[1]-8] == 0) == 8:\n",
    "                        si = si[:][:]-[0,7,0]      \n",
    "                    else:\n",
    "                        a = False  \n",
    "                else:\n",
    "                    if np.sum(avail_array[si[0],si[1]:si[1]+8] == 0) != 8 :\n",
    "                        a = False         \n",
    "            else:\n",
    "                if avail_array[si[0]-1,si[1]] == 0:\n",
    "                    if np.sum(avail_array[si[0],si[1]:si[1]-8] == 0) == 8:\n",
    "                        si = si[:][:]-[7,0,0]  \n",
    "                    else:\n",
    "                        a = False\n",
    "                else:\n",
    "                   if np.sum(avail_array[si[0],si[1]:si[1]+8] == 0) != 8:\n",
    "                        a = False \n",
    "            if a == True:\n",
    "                public(si,3)\n",
    "                i = i + 1\n",
    "        else:\n",
    "            a = False\n",
    "            j = j + 1\n",
    "    if j == 1000:\n",
    "        i = i + 1\n",
    "plot(avail_array)"
   ]
  },
  {
   "cell_type": "code",
   "execution_count": null,
   "metadata": {},
   "outputs": [],
   "source": [
    "avail_lattice = tg.to_lattice(avail_array, minbound=[0,0,0])\n",
    "k_array = np.zeros((width,length,1), dtype=int)\n",
    "k_array[np.where(avail_lattice==4)] = 1\n",
    "k_lattice = tg.to_lattice(k_array, minbound=[0,0,0])\n",
    "neigh_lattice = k_lattice.apply_stencil(vn_stencil)\n",
    "\n",
    "plt.imshow(neigh_lattice == 1)\n",
    "plt.colorbar()\n",
    "plt.show()"
   ]
  },
  {
   "cell_type": "code",
   "execution_count": null,
   "metadata": {},
   "outputs": [],
   "source": [
    "# array of possible points\n",
    "pk = np.argwhere(((neigh_lattice == 1)*(avail_array == 0)) == 1)\n",
    "\n",
    "p_array = np.zeros((width,length,1), dtype=int)\n",
    "for i in range(len(pk)):\n",
    "    p_array[pk[i][0], pk[i][1]] = 1\n",
    "\n",
    "plt.imshow(p_array == 1)\n",
    "plt.colorbar()\n",
    "plt.show()"
   ]
  },
  {
   "cell_type": "code",
   "execution_count": null,
   "metadata": {},
   "outputs": [],
   "source": [
    "# adding 1 Kitchen 8*8 connected to the Canteen \n",
    "i = 0\n",
    "j = 0\n",
    "while i <= 0:\n",
    "    a = False\n",
    "    while (a == False) and (j < 50000):\n",
    "        si = pk[np.random.choice(len(pk), 1, replace=False)[0]]\n",
    "        ar = np.sum(p_array[si[0]:si[0]+8, si[1]]==1) == 8\n",
    "        ac = np.sum(p_array[si[0], si[1]:si[1]+8]==1) == 8\n",
    "        a = ar or ac\n",
    "        if (a==True) and (p_array[si[0],si[1]]==1):\n",
    "            if ar == True:\n",
    "                p_array[si[0]:si[0]+7, si[1]] = 0\n",
    "                if avail_array[si[0],si[1]-1] == 0:\n",
    "                    if (avail_array[si[0]+7,si[1]-7] != 0) or (avail_array[si[0]-7,si[1]+7] != 0):\n",
    "                        a = False \n",
    "                    else:\n",
    "                        si = si[:][:]-[0,7,0] \n",
    "                else:\n",
    "                    if (avail_array[si[0]-7,si[1]+7] != 0) or (avail_array[si[0]+7,si[1]+7] != 0):\n",
    "                        a = False         \n",
    "            else:\n",
    "                p_array[si[0], si[1]:si[1]+7] = 0\n",
    "                if avail_array[si[0]-1,si[1]] == 0:\n",
    "                    if (avail_array[si[0]-7,si[1]+7] != 0) or (avail_array[si[0]-7,si[1]+7] != 0):\n",
    "                        a = False \n",
    "                    else:\n",
    "                        si = si[:][:]-[7,0,0] \n",
    "                else:\n",
    "                   if (avail_array[si[0]+7,si[1]+7] != 0) or (avail_array[si[0]+7,si[1]-7] != 0):\n",
    "                        a = False \n",
    "            if a == True:\n",
    "                public(si,6)\n",
    "                i = i + 1\n",
    "        else:\n",
    "            a = False\n",
    "            j = j + 1\n",
    "    if j == 50000:\n",
    "        i = i + 1\n",
    "plot(avail_array)"
   ]
  },
  {
   "cell_type": "code",
   "execution_count": null,
   "metadata": {},
   "outputs": [],
   "source": [
    "avail_lattice = tg.to_lattice(avail_array, minbound=[0,0,0])\n",
    "k_array = np.zeros((width,length,1), dtype=int)\n",
    "k_array[np.where(avail_lattice==6)] = 1\n",
    "k_lattice = tg.to_lattice(k_array, minbound=[0,0,0])\n",
    "neigh_lattice = k_lattice.apply_stencil(vn_stencil)"
   ]
  },
  {
   "cell_type": "code",
   "execution_count": null,
   "metadata": {},
   "outputs": [],
   "source": [
    "# array of possible points\n",
    "pch = np.argwhere(((neigh_lattice == 1)*(avail_array == 0)) == 1)\n",
    "\n",
    "p_array = np.zeros((width,length,1), dtype=int)\n",
    "for i in range(len(pch)):\n",
    "    p_array[pch[i][0], pch[i][1]] = 1\n",
    "\n",
    "plt.imshow(neigh_lattice == 1)\n",
    "plt.colorbar()\n",
    "plt.show()"
   ]
  },
  {
   "cell_type": "code",
   "execution_count": null,
   "metadata": {},
   "outputs": [],
   "source": [
    "# adding 1 Changing room 8*4 connected to the kitchen \n",
    "i = 0\n",
    "j = 0\n",
    "while i <= 0:\n",
    "    a = False\n",
    "    while (a == False) and (j < 5000):\n",
    "        si = pch[np.random.choice(len(pch), 1, replace=False)[0]]\n",
    "        ar = np.sum(p_array[si[0]:si[0]+8, si[1]]==1) == 8\n",
    "        ac = np.sum(p_array[si[0], si[1]:si[1]+8]==1) == 8\n",
    "        a = ar or ac\n",
    "        if (a==True) and (p_array[si[0],si[1]]==1):\n",
    "            if ar == True:\n",
    "                p_array[si[0]:si[0]+7, si[1]] = 0\n",
    "                if avail_array[si[0],si[1]-1] == 0:\n",
    "                    if (avail_array[si[0]+1,si[1]-1] == 3) or (avail_array[si[0]+1,si[1]-1] == 1):\n",
    "                        a = False \n",
    "                    else:\n",
    "                        si = si[:][:]-[0,3,0] \n",
    "                else:\n",
    "                    if (avail_array[si[0]+1,si[1]+1] == 3) or (avail_array[si[0]+1,si[1]+1] == 1):\n",
    "                        a = False         \n",
    "            else:\n",
    "                p_array[si[0], si[1]:si[1]+7] = 0\n",
    "                if avail_array[si[0]-1,si[1]] == 0:\n",
    "                    if (avail_array[si[0]-1,si[1]+1] == 3) or (avail_array[si[0]-1,si[1]+1] == 1):\n",
    "                        a = False \n",
    "                    else:\n",
    "                        si = si[:][:]-[3,0,0] \n",
    "                else:\n",
    "                   if (avail_array[si[0]+1,si[1]+1] == 3) or (avail_array[si[0]+1,si[1]+1] == 1):\n",
    "                        a = False \n",
    "            if a == True:\n",
    "                services(si,7,ac,ar)\n",
    "                i = i + 1\n",
    "        else:\n",
    "            a = False\n",
    "            j = j + 1\n",
    "    if j == 5000:\n",
    "        i = i + 1\n",
    "plot(avail_array)"
   ]
  },
  {
   "cell_type": "code",
   "execution_count": null,
   "metadata": {},
   "outputs": [],
   "source": [
    "# changing room OLD_VERSION\n",
    "# i = 0\n",
    "# j = 0\n",
    "# while i <= 0:\n",
    "#     a = False\n",
    "#     while (a == False) and (j < 500):\n",
    "#         si = pch[np.random.choice(len(pch), 1, replace=False)[0]]\n",
    "#         ar = np.sum(p_array[si[0]:si[0]+8, si[1]]==1) == 8\n",
    "#         ac = np.sum(p_array[si[0], si[1]:si[1]+8]==1) == 8\n",
    "#         a = ar or ac\n",
    "#         if a==True:\n",
    "#             if ar == True:\n",
    "#                 #p_array[si[0]:si[0]+7, si[1]] = 0\n",
    "#                 if avail_array[si[0],si[1]-1] == 0:\n",
    "#                     if np.sum(avail_array[si[0],si[1]:si[1]-8] == 0) == 8:\n",
    "#                         si = si[:][:]-[0,7,0]      \n",
    "#                     else:\n",
    "#                         a = False  \n",
    "#                 else:\n",
    "#                     if np.sum(avail_array[si[0],si[1]:si[1]+8] == 0) != 8 :\n",
    "#                         a = False         \n",
    "#             else:\n",
    "#                 #p_array[si[0], si[1]:si[1]+8] = 0\n",
    "#                 if avail_array[si[0]-1,si[1]] == 0:\n",
    "#                     if np.sum(avail_array[si[0]-8,si[1]] == 0) == 8:\n",
    "#                         si = si[:][:]-[7,0,0]  \n",
    "#                     else:\n",
    "#                         a = False\n",
    "#                 else:\n",
    "#                    if np.sum(avail_array[si[0],si[1]:si[1]+8] == 0) != 8:\n",
    "#                         a = False \n",
    "#             if a == True:\n",
    "#                 services(si,7,ac,ar)\n",
    "#                 i = i + 1\n",
    "#         else:\n",
    "#             a = False\n",
    "#             j = j + 1\n",
    "#     if j == 500:\n",
    "#         i = i + 1\n",
    "# plot(avail_array)"
   ]
  },
  {
   "cell_type": "code",
   "execution_count": null,
   "metadata": {},
   "outputs": [],
   "source": [
    "only_up_stencil = tg.create_stencil(\"von_neumann\", 1, 1)\n",
    "only_up_stencil[1, 1, 1] = 0\n",
    "only_up_stencil[1, 1, :] = 0\n",
    "only_up_stencil[0, :, :] = 0\n",
    "only_up_stencil[1, :, :] = 0\n",
    "only_up_stencil.function = tg.sfunc.sum "
   ]
  },
  {
   "cell_type": "code",
   "execution_count": null,
   "metadata": {},
   "outputs": [],
   "source": [
    "avail_lattice = tg.to_lattice(avail_array, minbound=[0,0,0])\n",
    "k_array = np.zeros((width,length,1), dtype=int)\n",
    "k_array[np.where(avail_lattice==2)] = 1\n",
    "k_lattice = tg.to_lattice(k_array, minbound=[0,0,0])\n",
    "neigh_lattice = k_lattice.apply_stencil(only_up_stencil)"
   ]
  },
  {
   "cell_type": "code",
   "execution_count": null,
   "metadata": {},
   "outputs": [],
   "source": [
    "plt.imshow(neigh_lattice == 1)\n",
    "plt.colorbar()\n",
    "plt.show()"
   ]
  },
  {
   "cell_type": "code",
   "execution_count": null,
   "metadata": {},
   "outputs": [],
   "source": [
    "# array of possible points\n",
    "pch = np.argwhere(((neigh_lattice == 1)*(avail_array == 0)) == 1)\n",
    "\n",
    "p_array = np.zeros((width,length,1), dtype=int)\n",
    "for i in range(len(pch)):\n",
    "    p_array[pch[i][0], pch[i][1]] = 1\n",
    "\n",
    "plt.imshow(p_array == 1)\n",
    "plt.colorbar()\n",
    "plt.show()"
   ]
  },
  {
   "cell_type": "code",
   "execution_count": null,
   "metadata": {},
   "outputs": [],
   "source": [
    "# definition of corridor with 8*2 m2 (top starting point, index number)\n",
    "def corrid_v(point,i):\n",
    "    c = (16,2,1)\n",
    "    avail_array[point[0]:point[0] + c[0], point[1]:point[1] + c[1]] = i\n",
    "def corrid_h(point,i):\n",
    "    c = (2,16,1)\n",
    "    avail_array[point[0]:point[0] + c[0], point[1]:point[1] + c[1]] = i\n",
    "def corrid(point,i,h,v):\n",
    "    if h == True:\n",
    "        corrid_v(point,i)\n",
    "    else:\n",
    "        corrid_h(point,i)"
   ]
  },
  {
   "cell_type": "code",
   "execution_count": null,
   "metadata": {},
   "outputs": [],
   "source": [
    "# adding 1 corridors 8*2 for distribution to the classrooms (only up)\n",
    "a = False\n",
    "while a == False:\n",
    "    si = pch[np.random.choice(len(pch), 1, replace=False)[0]]\n",
    "    ac = np.sum(p_array[si[0], si[1]:si[1]+2]==1) == 2\n",
    "    if ac == True:\n",
    "        if np.sum(avail_array[si[0],si[1]-7 == 0] == 7) == 0:\n",
    "            si = si[:][:]-[15,0,0]\n",
    "            corrid(si,8,ac,ar)\n",
    "            a = True\n",
    "        else:\n",
    "            a = False\n",
    "    else:\n",
    "        a = False\n",
    "plot(avail_array)"
   ]
  },
  {
   "cell_type": "code",
   "execution_count": null,
   "metadata": {},
   "outputs": [],
   "source": [
    "only_down_stencil = tg.create_stencil(\"von_neumann\", 1, 1)\n",
    "only_down_stencil[1, 1, 1] = 0\n",
    "only_down_stencil[1, 1, :] = 0\n",
    "only_down_stencil[2, :, :] = 0\n",
    "only_down_stencil[1, :, :] = 0\n",
    "only_down_stencil.function = tg.sfunc.sum"
   ]
  },
  {
   "cell_type": "code",
   "execution_count": null,
   "metadata": {},
   "outputs": [],
   "source": [
    "avail_lattice = tg.to_lattice(avail_array, minbound=[0,0,0])\n",
    "k_array = np.zeros((width,length,1), dtype=int)\n",
    "k_array[np.where(avail_lattice==2)] = 1\n",
    "k_lattice = tg.to_lattice(k_array, minbound=[0,0,0])\n",
    "neigh_lattice = k_lattice.apply_stencil(only_down_stencil)"
   ]
  },
  {
   "cell_type": "code",
   "execution_count": null,
   "metadata": {},
   "outputs": [],
   "source": [
    "# array of possible points\n",
    "pch = np.argwhere(((neigh_lattice == 1)*(avail_array == 0)) == 1)\n",
    "\n",
    "p_array = np.zeros((width,length,1), dtype=int)\n",
    "for i in range(len(pch)):\n",
    "    p_array[pch[i][0], pch[i][1]] = 1\n",
    "\n",
    "plt.imshow(p_array == 1)\n",
    "plt.colorbar()\n",
    "plt.show()"
   ]
  },
  {
   "cell_type": "code",
   "execution_count": null,
   "metadata": {},
   "outputs": [],
   "source": [
    "# adding 1 corridors 8*2 for distribution to the classrooms (only down)\n",
    "a = False\n",
    "while a == False:\n",
    "    si = pch[np.random.choice(len(pch), 1, replace=False)[0]]\n",
    "    ac = np.sum(p_array[si[0], si[1]:si[1]+2]==1) == 2\n",
    "    if ac == True:\n",
    "        if np.sum(avail_array[si[0],si[1]+7 == 0] == 7) == 0:\n",
    "            corrid(si,8,ac,ar)\n",
    "            a = True\n",
    "        else:\n",
    "            a = False\n",
    "    else:\n",
    "        a = False\n",
    "plot(avail_array)"
   ]
  },
  {
   "cell_type": "code",
   "execution_count": null,
   "metadata": {},
   "outputs": [],
   "source": [
    "# corridor OLD_VERSION\n",
    "# i = 0\n",
    "# j = 0\n",
    "# while i <= 1:\n",
    "#     a = False\n",
    "#     while (a == False) and (j < 5000):\n",
    "#         si = pch[np.random.choice(len(pch), 1, replace=False)[0]]\n",
    "#         ar = np.sum(p_array[si[0]:si[0]+2, si[1]]==1) == 2\n",
    "#         ac = np.sum(p_array[si[0], si[1]:si[1]+2]==1) == 2\n",
    "#         a = ar or ac\n",
    "#         if a==True:\n",
    "#             if ar == True:\n",
    "#                 if avail_array[si[0],si[1]-1] == 0:\n",
    "#                     if np.sum(avail_array[si[0],si[1]:si[1]-8] == 0) == 8:\n",
    "#                         si = si[:][:]-[0,15,0]      \n",
    "#                     else:\n",
    "#                         a = False  \n",
    "#                 else:\n",
    "#                     if np.sum(avail_array[si[0],si[1]:si[1]+8] == 0) != 8 :\n",
    "#                         a = False         \n",
    "#             else:\n",
    "#                 if avail_array[si[0]-1,si[1]] == 0:\n",
    "#                     if np.sum(avail_array[si[0]:si[0]-8,si[1]] == 0) == 8:\n",
    "#                         si = si[:][:]-[15,0,0]  \n",
    "#                     else:\n",
    "#                         a = False\n",
    "#                 else:\n",
    "#                    if np.sum(avail_array[si[0],si[1]:si[1]+8] == 0) != 8:\n",
    "#                         a = False \n",
    "#             if a == True:\n",
    "#                 corrid(si,8,ac,ar)\n",
    "#                 i = i + 1\n",
    "#         else:\n",
    "#             a = False\n",
    "#             j = j + 1\n",
    "#     if j == 5000:\n",
    "#         i = i + 1\n",
    "# plot(avail_array)"
   ]
  },
  {
   "cell_type": "code",
   "execution_count": null,
   "metadata": {},
   "outputs": [],
   "source": [
    "avail_lattice = tg.to_lattice(avail_array, minbound=[0,0,0])\n",
    "k_array = np.zeros((width,length,1), dtype=int)\n",
    "k_array[np.where(avail_lattice==8)] = 1\n",
    "k_lattice = tg.to_lattice(k_array, minbound=[0,0,0])\n",
    "neigh_lattice = k_lattice.apply_stencil(vn_stencil)"
   ]
  },
  {
   "cell_type": "code",
   "execution_count": null,
   "metadata": {},
   "outputs": [],
   "source": [
    "# array of possible points\n",
    "pcor = np.argwhere(((neigh_lattice == 1)*(avail_array == 0)) == 1)\n",
    "\n",
    "p_array = np.zeros((width,length,1), dtype=int)\n",
    "for i in range(len(pcor)):\n",
    "    p_array[pcor[i][0], pcor[i][1]] = 1\n",
    "\n",
    "plt.imshow(p_array == 1)\n",
    "plt.colorbar()\n",
    "plt.show()"
   ]
  },
  {
   "cell_type": "code",
   "execution_count": null,
   "metadata": {},
   "outputs": [],
   "source": [
    "# adding 3 administration rooms 8*4 connected to the corridor\n",
    "i = 0\n",
    "j = 0\n",
    "while i <= 2:\n",
    "    a = False\n",
    "    while (a == False) and (j < 9000):\n",
    "        si = pcor[np.random.choice(len(pcor), 1, replace=False)[0]]\n",
    "        ar = np.sum(p_array[si[0]:si[0]+4, si[1]]==1) == 4\n",
    "        ac = np.sum(p_array[si[0], si[1]:si[1]+4]==1) == 4\n",
    "        a = ar or ac\n",
    "        if a==True:\n",
    "            if ar == True:\n",
    "                if avail_array[si[0],si[1]-1] == 0:\n",
    "                    if (np.sum(avail_array[si[0],si[1]:si[1]-8] == 0) == 8) and (np.sum(avail_array[si[0]+4,si[1]:si[1]-8] == 0) == 8):\n",
    "                        si = si[:][:]-[0,7,0]      \n",
    "                    else:\n",
    "                        a = False  \n",
    "                else:\n",
    "                    if (np.sum(avail_array[si[0],si[1]:si[1]+8] == 0) == 8) and (np.sum(avail_array[si[0]+4,si[1]:si[1]+8] == 0) == 8):\n",
    "                        a = True\n",
    "                    else:\n",
    "                        a = False         \n",
    "            if a == True:\n",
    "                services(si,9,ar,ac)\n",
    "                i = i + 1\n",
    "        else:\n",
    "            a = False\n",
    "            j = j + 1\n",
    "    if j == 9000:\n",
    "        i = i + 1\n",
    "plot(avail_array)"
   ]
  },
  {
   "cell_type": "code",
   "execution_count": null,
   "metadata": {},
   "outputs": [],
   "source": [
    "up_stencil = tg.create_stencil(\"von_neumann\", 1, 1)\n",
    "up_stencil[1, 1, 1] = 0\n",
    "up_stencil[1, 1, :] = 0\n",
    "up_stencil[1, :, 1] = 0\n",
    "up_stencil.function = tg.sfunc.sum "
   ]
  },
  {
   "cell_type": "code",
   "execution_count": null,
   "metadata": {},
   "outputs": [],
   "source": [
    "avail_lattice = tg.to_lattice(avail_array, minbound=[0,0,0])\n",
    "k_array = np.zeros((width,length,1), dtype=int)\n",
    "k_array[np.where(avail_lattice==8)] = 1\n",
    "k_lattice = tg.to_lattice(k_array, minbound=[0,0,0])\n",
    "neigh_lattice = k_lattice.apply_stencil(up_stencil)"
   ]
  },
  {
   "cell_type": "code",
   "execution_count": null,
   "metadata": {},
   "outputs": [],
   "source": [
    "# array of possible points\n",
    "pcor = np.argwhere(((neigh_lattice == 1)*(avail_array == 0)) == 1)\n",
    "\n",
    "p_array = np.zeros((width,length,1), dtype=int)\n",
    "for i in range(len(pcor)):\n",
    "    p_array[pcor[i][0], pcor[i][1]] = 1\n",
    "\n",
    "plt.imshow(p_array == 1)\n",
    "plt.colorbar()\n",
    "plt.show()"
   ]
  },
  {
   "cell_type": "code",
   "execution_count": null,
   "metadata": {},
   "outputs": [],
   "source": [
    "# adding one courtyard for classrooms (above)\n",
    "si = np.argwhere(p_array == 1)\n",
    "si = si[0]\n",
    "if np.ndarray.item(avail_array[si[0]-1, si[1]]) == 0:\n",
    "    if np.sum(avail_array[si[0]-3,si[1]:si[1]+8] == 0) == 8:\n",
    "        si = si[:][:]-[9,-2,0]\n",
    "        public(si,12)\n",
    "else:\n",
    "    if np.sum(avail_array[si[0]+3,si[1]:si[1]+8] == 0) == 8:\n",
    "        si = si[:][:]-[-2,-2,0]\n",
    "        public(si,12)\n",
    "plot(avail_array)"
   ]
  },
  {
   "cell_type": "code",
   "execution_count": null,
   "metadata": {},
   "outputs": [],
   "source": [
    "# adding another courtyard for classrooms (below)\n",
    "si = np.argwhere(p_array == 1)\n",
    "si = si[3]\n",
    "if np.ndarray.item(avail_array[si[0]-1, si[1]]) == 0:\n",
    "    if np.sum(avail_array[si[0]-3,si[1]:si[1]+8] == 0) == 8:\n",
    "        si = si[:][:]-[9,-2,0]\n",
    "        public(si,12)\n",
    "else:\n",
    "    if np.sum(avail_array[si[0]+3,si[1]:si[1]+8] == 0) == 8:\n",
    "        si = si[:][:]-[-2,-1,0]\n",
    "        public(si,12)\n",
    "plot(avail_array)"
   ]
  },
  {
   "cell_type": "code",
   "execution_count": null,
   "metadata": {},
   "outputs": [],
   "source": [
    "avail_lattice = tg.to_lattice(avail_array, minbound=[0,0,0])\n",
    "k_array = np.zeros((width,length,1), dtype=int)\n",
    "k_array[np.where(avail_lattice==12)] = 1\n",
    "k_lattice = tg.to_lattice(k_array, minbound=[0,0,0])\n",
    "neigh_lattice = k_lattice.apply_stencil(up_s)\n",
    "plot(neigh_lattice)"
   ]
  },
  {
   "cell_type": "code",
   "execution_count": null,
   "metadata": {},
   "outputs": [],
   "source": [
    "# apply corridors around courtyards for classrooms \n",
    "corridor = np.argwhere((neigh_lattice[:,:,0]>=1) * (avail_lattice[:,:,0]==0))\n",
    "for i in range(len(corridor)):\n",
    "    avail_array[corridor[i][0],corridor[i][1]] = 13"
   ]
  },
  {
   "cell_type": "code",
   "execution_count": null,
   "metadata": {},
   "outputs": [],
   "source": [
    "plot(avail_array)"
   ]
  },
  {
   "cell_type": "code",
   "execution_count": null,
   "metadata": {},
   "outputs": [],
   "source": [
    "avail_lattice = tg.to_lattice(avail_array, minbound=[0,0,0])\n",
    "k_array = np.zeros((width,length,1), dtype=int)\n",
    "k_array[np.where(avail_lattice==13)] = 1\n",
    "k_lattice = tg.to_lattice(k_array, minbound=[0,0,0])\n",
    "neigh_lattice = k_lattice.apply_stencil(vn_stencil)"
   ]
  },
  {
   "cell_type": "code",
   "execution_count": null,
   "metadata": {},
   "outputs": [],
   "source": [
    "# definition of classroom with 8*6 m2 (top starting point, index number)\n",
    "def classroom_v(point,i):\n",
    "    c = (8,6,1)\n",
    "    avail_array[point[0]:point[0] + c[0], point[1]:point[1] + c[1]] = i\n",
    "def classroom_h(point,i):\n",
    "    c = (6,8,1)\n",
    "    avail_array[point[0]:point[0] + c[0], point[1]:point[1] + c[1]] = i\n",
    "def classroom(point,i,h,v):\n",
    "    if h == True:\n",
    "        classroom_h(point,i)\n",
    "    else:\n",
    "        classroom_v(point,i)"
   ]
  },
  {
   "cell_type": "code",
   "execution_count": null,
   "metadata": {},
   "outputs": [],
   "source": [
    "# array of possible points\n",
    "pcl = np.argwhere(((neigh_lattice == 1)*(avail_array == 0)) == 1)\n",
    "print(len(pcl))\n",
    "\n",
    "p_array = np.zeros((width,length,1), dtype=int)\n",
    "for i in range(len(pcl)):\n",
    "    p_array[pcl[i][0], pcl[i][1]] = 1\n",
    "\n",
    "plot(p_array)"
   ]
  },
  {
   "cell_type": "code",
   "execution_count": null,
   "metadata": {},
   "outputs": [],
   "source": [
    "# adding 4 classrooms 8*6 around corridors\n",
    "i = 0\n",
    "j = 0\n",
    "while i <= 3:\n",
    "    a = False\n",
    "    while (a == False) and (j < 9000):\n",
    "        si = pcl[np.random.choice(len(pcl), 1, replace=False)[0]]\n",
    "        ar = np.sum(p_array[si[0]:si[0]+8, si[1]]==1) == 8\n",
    "        ac = np.sum(p_array[si[0], si[1]:si[1]+8]==1) == 8\n",
    "        a = ar or ac\n",
    "        if (a==True) and (p_array[si[0],si[1]]==1):\n",
    "            if ar == True:\n",
    "                p_array[si[0]:si[0]+7, si[1]] = 0\n",
    "                if avail_array[si[0],si[1]-1] == 0:\n",
    "                    if avail_array[si[0], si[1]:si[1]-6] == 0:\n",
    "                        si = si[:][:]-[0,5,0] \n",
    "                    else:\n",
    "                        a = False\n",
    "                else:\n",
    "                    if avail_array[si[0], si[1]:si[1]+6] == 0:\n",
    "                        si = si[:][:]-[0,5,0] \n",
    "                    else:\n",
    "                        a = False \n",
    "            else:\n",
    "                p_array[si[0], si[1]:si[1]+7] = 0\n",
    "                if avail_array[si[0]-1,si[1]] == 0:\n",
    "                    if avail_array[si[0]:si[0]-6, si[1]] == 0:\n",
    "                        si = si[:][:]-[5,0,0]\n",
    "                    else:\n",
    "                        a = False\n",
    "                else:\n",
    "                    if avail_array[si[0]:si[0]+6, si[1]] == 0:\n",
    "                        si = si[:][:]-[0,5,0] \n",
    "                    else:\n",
    "                        a = False                    \n",
    "            if a == True:\n",
    "                classroom(si,14,ac,ar)\n",
    "                i = i + 1\n",
    "        else:\n",
    "            a = False\n",
    "            j = j + 1\n",
    "    if j == 9000:\n",
    "        i = i + 1\n",
    "plot(avail_array)"
   ]
  },
  {
   "cell_type": "code",
   "execution_count": null,
   "metadata": {},
   "outputs": [],
   "source": [
    "avail_lattice = tg.to_lattice(avail_array, minbound=[0,0,0])\n",
    "k_array = np.zeros((width,length,1), dtype=int)\n",
    "k_array[np.where(avail_lattice==12)] = 1\n",
    "k_array[np.where(avail_lattice==14)] = 1\n",
    "k_lattice = tg.to_lattice(k_array, minbound=[0,0,0])\n",
    "neigh_lattice = k_lattice.apply_stencil(vn_stencil)"
   ]
  },
  {
   "cell_type": "code",
   "execution_count": null,
   "metadata": {},
   "outputs": [],
   "source": [
    "# array of possible points\n",
    "pc1 = np.argwhere(((neigh_lattice == 1)*(avail_array == 0)) == 1)\n",
    "pc2 = np.argwhere(((neigh_lattice == 1)*(avail_array == 13)) == 1)\n",
    "pc = np.append(pc1, pc2, axis=0)\n",
    "\n",
    "p_array = np.zeros((width,length,1), dtype=int)\n",
    "for i in range(len(pc)):\n",
    "    p_array[pc[i][0], pc[i][1]] = 1\n",
    "\n",
    "plot(p_array)"
   ]
  },
  {
   "cell_type": "code",
   "execution_count": null,
   "metadata": {},
   "outputs": [],
   "source": [
    "# adding 4 more courtyards 8*8 for more classrooms\n",
    "i = 0\n",
    "j = 0\n",
    "while i <= 3:\n",
    "    a = False\n",
    "    while (a == False) and (j < 10000):\n",
    "        si = pc[np.random.choice(len(pc), 1, replace=False)[0]]\n",
    "        ar = np.sum(p_array[si[0]:si[0]+8, si[1]]==1) == 8\n",
    "        ac = np.sum(p_array[si[0], si[1]:si[1]+8]==1) == 8\n",
    "        a = ar or ac\n",
    "        if (a==True) and (p_array[si[0],si[1]]==1):\n",
    "            if ar == True:\n",
    "                p_array[si[0]:si[0]+7, si[1]] = 0\n",
    "                if avail_array[si[0],si[1]-1] == 0:\n",
    "                    if avail_array[si[0]+3,si[1]-3] != 0:\n",
    "                        a = False \n",
    "                    else:\n",
    "                        si = si[:][:]-[0,7,0] \n",
    "                else:\n",
    "                    if avail_array[si[0]+3,si[1]+3] != 0:\n",
    "                        a = False         \n",
    "            else:\n",
    "                p_array[si[0], si[1]:si[1]+7] = 0\n",
    "                if avail_array[si[0]-1,si[1]] == 0:\n",
    "                    if avail_array[si[0]-3,si[1]+3] != 0:\n",
    "                        a = False \n",
    "                    else:\n",
    "                        si = si[:][:]-[7,0,0] \n",
    "                else:\n",
    "                   if avail_array[si[0]+3,si[1]+3] != 0:\n",
    "                        a = False \n",
    "            if a == True:\n",
    "                public(si,12)\n",
    "                i = i + 1\n",
    "        else:\n",
    "            a = False\n",
    "            j = j + 1\n",
    "    if j == 10000:\n",
    "        i = i + 1\n",
    "plot(avail_array)"
   ]
  },
  {
   "cell_type": "code",
   "execution_count": null,
   "metadata": {},
   "outputs": [],
   "source": [
    "avail_lattice = tg.to_lattice(avail_array, minbound=[0,0,0])\n",
    "k_array = np.zeros((width,length,1), dtype=int)\n",
    "k_array[np.where(avail_lattice==12)] = 1\n",
    "k_lattice = tg.to_lattice(k_array, minbound=[0,0,0])\n",
    "neigh_lattice = k_lattice.apply_stencil(up_s)"
   ]
  },
  {
   "cell_type": "code",
   "execution_count": null,
   "metadata": {},
   "outputs": [],
   "source": [
    "# apply corridor \n",
    "corridor = np.argwhere((neigh_lattice >= 1) * (avail_array==0))\n",
    "for i in range(len(corridor)):\n",
    "    avail_array[corridor[i][0],corridor[i][1]] = 13\n",
    "\n",
    "plot(avail_array)"
   ]
  },
  {
   "cell_type": "code",
   "execution_count": null,
   "metadata": {},
   "outputs": [],
   "source": [
    "avail_lattice = tg.to_lattice(avail_array, minbound=[0,0,0])\n",
    "k_array = np.zeros((width,length,1), dtype=int)\n",
    "k_array[np.where(avail_lattice==13)] = 1\n",
    "k_lattice = tg.to_lattice(k_array, minbound=[0,0,0])\n",
    "neigh_lattice = k_lattice.apply_stencil(vn_stencil)"
   ]
  },
  {
   "cell_type": "code",
   "execution_count": null,
   "metadata": {},
   "outputs": [],
   "source": [
    "pcl2= np.argwhere(((neigh_lattice == 1)*(avail_array == 0)) == 1)\n",
    "\n",
    "p_array = np.zeros((width,length,1), dtype=int)\n",
    "for i in range(len(pcl2)):\n",
    "    p_array[pcl2[i][0], pcl2[i][1]] = 1"
   ]
  },
  {
   "cell_type": "code",
   "execution_count": null,
   "metadata": {},
   "outputs": [],
   "source": [
    "# classroom vol2\n",
    "i = 0\n",
    "j = 0\n",
    "while i <= 5:\n",
    "    a = False\n",
    "    while (a == False) and (j < 800):\n",
    "        si = pcl2[np.random.choice(len(pcl2), 1, replace=False)[0]]\n",
    "        ar = np.sum(p_array[si[0]:si[0]+8, si[1]]==1) == 8\n",
    "        ac = np.sum(p_array[si[0], si[1]:si[1]+8]==1) == 8\n",
    "        a = ar or ac\n",
    "        if (a==True) and (p_array[si[0],si[1]]==1):\n",
    "            if ar == True:\n",
    "                p_array[si[0]:si[0]+7, si[1]] = 0\n",
    "                if avail_array[si[0],si[1]-1] == 0:\n",
    "                    if (avail_array[si[0]+4,si[1]-6] != 0) or (avail_array[si[0]-4,si[1]-6] != 0):\n",
    "                        a = False \n",
    "                    else:\n",
    "                        si = si[:][:]-[0,5,0] \n",
    "                else:\n",
    "                    if (avail_array[si[0]+4,si[1]+6] != 0) or (avail_array[si[0]-4,si[1]+6] != 0):\n",
    "                        a = False         \n",
    "            else:\n",
    "                p_array[si[0], si[1]:si[1]+7] = 0\n",
    "                if avail_array[si[0]-1,si[1]] == 0:\n",
    "                    if (avail_array[si[0]-6,si[1]+4] != 0) or (avail_array[si[0]-6,si[1]-4] != 0):\n",
    "                        a = False \n",
    "                    else:\n",
    "                        si = si[:][:]-[5,0,0] \n",
    "                else:\n",
    "                   if (avail_array[si[0]+6,si[1]+4] != 0) or (avail_array[si[0]+6,si[1]-4] != 0):\n",
    "                        a = False \n",
    "            if a == True:\n",
    "                classroom(si,15,ac,ar)\n",
    "                i = i + 1\n",
    "        else:\n",
    "            a = False\n",
    "            j = j + 1\n",
    "    if j == 800:\n",
    "        i = i + 1\n",
    "plot(avail_array)"
   ]
  },
  {
   "cell_type": "code",
   "execution_count": null,
   "metadata": {},
   "outputs": [],
   "source": [
    "avail_lattice = tg.to_lattice(avail_array, minbound=[0,0,0])\n",
    "k_array = np.zeros((width,length,1), dtype=int)\n",
    "k_array[np.where(avail_lattice==13)] = 1\n",
    "k_lattice = tg.to_lattice(k_array, minbound=[0,0,0])\n",
    "neigh_lattice = k_lattice.apply_stencil(vn_stencil)\n",
    "\n",
    "ptl1 = np.argwhere(((neigh_lattice == 1)*(avail_array == 0)) == 1)\n",
    "ptl2 = np.argwhere(((neigh_lattice == 1)*(avail_array == 13)) == 1)\n",
    "ptl = np.append(ptl1, ptl2, axis=0)\n",
    "\n",
    "p_array = np.zeros((width,length,1), dtype=int)\n",
    "for i in range(len(ptl)):\n",
    "    p_array[ptl[i][0], ptl[i][1]] = 1\n",
    "\n",
    "plot(p_array)"
   ]
  },
  {
   "cell_type": "code",
   "execution_count": null,
   "metadata": {},
   "outputs": [],
   "source": [
    "# definition toilet\n",
    "def services_v(point,i):\n",
    "    c = (6,4,1)\n",
    "    avail_array[point[0]:point[0] + c[0], point[1]:point[1] + c[1]] = i\n",
    "def services_h(point,i):\n",
    "    c = (4,6,1)\n",
    "    avail_array[point[0]:point[0] + c[0], point[1]:point[1] + c[1]] = i\n",
    "def services(point,i,h,v):\n",
    "    if h == True:\n",
    "        services_h(point,i)\n",
    "    else:\n",
    "        services_v(point,i)"
   ]
  },
  {
   "cell_type": "code",
   "execution_count": null,
   "metadata": {},
   "outputs": [],
   "source": [
    "# adding toilets and storage rooms 6*4\n",
    "# connected to classroom's corridors\n",
    "i = 0\n",
    "j = 0\n",
    "while i <= 4:\n",
    "    a = False\n",
    "    while (a == False) and (j < 1200):\n",
    "        si = ptl[np.random.choice(len(ptl), 1, replace=False)[0]]\n",
    "        ar = np.sum(p_array[si[0]:si[0]+4, si[1]]==1) == 4\n",
    "        ac = np.sum(p_array[si[0], si[1]:si[1]+4]==1) == 4\n",
    "        a = ar or ac\n",
    "        if (a==True) and (p_array[si[0],si[1]]==1):\n",
    "            if ar == True:\n",
    "                p_array[si[0]:si[0]+3, si[1]] = 0\n",
    "                if avail_array[si[0],si[1]-1] == 0:\n",
    "                    if avail_array[si[0]+1,si[1]-5] != 0:\n",
    "                        a = False \n",
    "                    else:\n",
    "                        si = si[:][:]-[0,5,0] \n",
    "                else:\n",
    "                    if avail_array[si[0]+1,si[1]+5] != 0:\n",
    "                        a = False         \n",
    "            else:\n",
    "                p_array[si[0], si[1]:si[1]+3] = 0\n",
    "                if avail_array[si[0]-1,si[1]] == 0:\n",
    "                    if avail_array[si[0]-5,si[1]+1] != 0:\n",
    "                        a = False \n",
    "                    else:\n",
    "                        si = si[:][:]-[5,0,0] \n",
    "                else:\n",
    "                   if avail_array[si[0]+5,si[1]+1] != 0:\n",
    "                        a = False \n",
    "            if a == True:\n",
    "                services(si,4,ar,ac)\n",
    "                i = i + 1\n",
    "        else:\n",
    "            a = False\n",
    "            j = j + 1\n",
    "    if j == 1200:\n",
    "        i = i + 1\n",
    "plot(avail_array)"
   ]
  },
  {
   "cell_type": "code",
   "execution_count": null,
   "metadata": {},
   "outputs": [],
   "source": [
    "import pyvista as pv\n",
    "from compas.datastructures import Mesh as CompasMesh\n",
    "import compas\n",
    "import pandas as pd\n",
    "\n",
    "import earthy_bridge as eb"
   ]
  },
  {
   "cell_type": "code",
   "execution_count": null,
   "metadata": {},
   "outputs": [],
   "source": [
    "newarr = np.reshape(avail_array, (98,35))"
   ]
  },
  {
   "cell_type": "code",
   "execution_count": null,
   "metadata": {},
   "outputs": [],
   "source": [
    "# export to an excel\n",
    "df = pd.DataFrame(newarr)\n",
    "df.to_csv(r'C:\\Users\\Mariana\\Desktop\\export_dataframe.csv', index = False)"
   ]
  }
 ],
 "metadata": {
  "interpreter": {
   "hash": "2e13adbd30f4e8d92611076393500c317be3c4a246388c45226dddaf37e443c5"
  },
  "kernelspec": {
   "display_name": "Python 3.8.5 64-bit ('earthy': conda)",
   "name": "python3"
  },
  "language_info": {
   "codemirror_mode": {
    "name": "ipython",
    "version": 3
   },
   "file_extension": ".py",
   "mimetype": "text/x-python",
   "name": "python",
   "nbconvert_exporter": "python",
   "pygments_lexer": "ipython3",
   "version": "3.8.5"
  },
  "orig_nbformat": 4
 },
 "nbformat": 4,
 "nbformat_minor": 2
}
